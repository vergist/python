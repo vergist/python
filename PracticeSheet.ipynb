{
 "cells": [
  {
   "cell_type": "code",
   "execution_count": 2,
   "metadata": {},
   "outputs": [
    {
     "name": "stdout",
     "output_type": "stream",
     "text": [
      ">start\n",
      "Car started...\n",
      ">start\n",
      "Car already started...\n",
      ">stop\n",
      "Car stopped!\n",
      ">stop\n",
      "Car already stopped!\n",
      ">stop\n",
      "Car already stopped!\n",
      ">quit\n",
      "bye!\n"
     ]
    }
   ],
   "source": [
    "#https://www.youtube.com/watch?v=_uQrJ0TkZlc&t=4006s\n",
    "#while loops mastery\n",
    "userinput=\"\"\n",
    "Car_started=False\n",
    "while True:\n",
    "    userinput= input (\">\").lower()\n",
    "    if userinput==\"start\" :\n",
    "        if not Car_started:\n",
    "            print (\"Car started...\")\n",
    "            Car_started=True\n",
    "        else:\n",
    "            print (\"Car already started...\")\n",
    "            \n",
    "    elif userinput==\"stop\" :\n",
    "        if Car_started:\n",
    "            print (\"Car stopped!\")\n",
    "            Car_started=False\n",
    "        else:\n",
    "            print (\"Car already stopped!\")\n",
    "    elif userinput==\"quit\":\n",
    "        print (\"bye!\")\n",
    "        break\n",
    "    elif userinput==\"help\":\n",
    "        print ('''\n",
    "start - to start car\n",
    "stop - to stop car\n",
    "quit - to quit\n",
    "help - to get help\n",
    "        ''')\n",
    "    else:\n",
    "        print (\"I dont understand\")\n",
    "        "
   ]
  },
  {
   "cell_type": "code",
   "execution_count": 4,
   "metadata": {},
   "outputs": [
    {
     "name": "stdout",
     "output_type": "stream",
     "text": [
      "60\n"
     ]
    }
   ],
   "source": [
    "#For Loop mastery\n",
    "#https://www.youtube.com/watch?v=_uQrJ0TkZlc&t=5048s\n",
    "#1:42\n",
    "\n",
    "price=[10,20,30]\n",
    "total=0\n",
    "for price  in price:\n",
    "    total=total+ price\n",
    "print (total)"
   ]
  },
  {
   "cell_type": "markdown",
   "metadata": {},
   "source": [
    "numbers =[2,3,6]\n",
    "star = '*'\n",
    "zero = '#'\n",
    "six = '<'\n",
    "for i in numbers:\n",
    "    print (i*star)"
   ]
  },
  {
   "cell_type": "code",
   "execution_count": 16,
   "metadata": {},
   "outputs": [
    {
     "name": "stdout",
     "output_type": "stream",
     "text": [
      "*****\n",
      "**\n",
      "*****\n",
      "**\n",
      "**\n"
     ]
    }
   ],
   "source": [
    "numbers=[5,2,5,2,2]\n",
    "x='*'\n",
    "for i in numbers:\n",
    "    print (x*i)"
   ]
  },
  {
   "cell_type": "code",
   "execution_count": 15,
   "metadata": {},
   "outputs": [
    {
     "name": "stdout",
     "output_type": "stream",
     "text": [
      "*****\n",
      "**\n",
      "*****\n",
      "**\n",
      "**\n"
     ]
    }
   ],
   "source": [
    "numbers=[5,2,5,2,2]\n",
    "for i in numbers:\n",
    "    x=''\n",
    "    for j in range(i):\n",
    "        x=x+'*'\n",
    "    print (x)"
   ]
  },
  {
   "cell_type": "code",
   "execution_count": 17,
   "metadata": {},
   "outputs": [
    {
     "name": "stdout",
     "output_type": "stream",
     "text": [
      "Jason\n"
     ]
    }
   ],
   "source": [
    "name='Jason'\n",
    "print (name)"
   ]
  },
  {
   "cell_type": "code",
   "execution_count": 22,
   "metadata": {},
   "outputs": [
    {
     "data": {
      "text/plain": [
       "'Pappa'"
      ]
     },
     "execution_count": 22,
     "metadata": {},
     "output_type": "execute_result"
    }
   ],
   "source": [
    "names=['Jason','Lia','Mamma','Pappa']\n",
    "names[-1]"
   ]
  },
  {
   "cell_type": "code",
   "execution_count": 26,
   "metadata": {},
   "outputs": [
    {
     "name": "stdout",
     "output_type": "stream",
     "text": [
      "50\n"
     ]
    }
   ],
   "source": [
    "numbers= [10,20,50]\n",
    "largest=numbers[0]\n",
    "for i in numbers:\n",
    "        if i>largest:\n",
    "            largest=i\n",
    "print(largest)"
   ]
  },
  {
   "cell_type": "code",
   "execution_count": 29,
   "metadata": {},
   "outputs": [
    {
     "name": "stdout",
     "output_type": "stream",
     "text": [
      "[10, 20, 40, 50]\n"
     ]
    }
   ],
   "source": [
    "#2:02 Min 2 D List\n",
    "#Remove Duplicates in a list\n",
    "numbers=[10,10,20,20,40,50]\n",
    "unique=[]\n",
    "for number in numbers:\n",
    "    if number not in unique:\n",
    "        unique.append(number)\n",
    "print (unique)"
   ]
  },
  {
   "cell_type": "code",
   "execution_count": 1,
   "metadata": {},
   "outputs": [
    {
     "name": "stdout",
     "output_type": "stream",
     "text": [
      "1\n"
     ]
    }
   ],
   "source": [
    "#Tuples 02:13\n",
    "cord=(0,1,2)\n",
    "x,y,z=cord\n",
    "print(y)\n",
    "#02:18"
   ]
  },
  {
   "cell_type": "code",
   "execution_count": 16,
   "metadata": {},
   "outputs": [
    {
     "name": "stdout",
     "output_type": "stream",
     "text": [
      "One\n",
      "Enter Phone 12\n",
      " One Two\n",
      "Two\n"
     ]
    }
   ],
   "source": [
    "#Dictionary\n",
    "phone={\"1\":\"One\",\"2\":\"Two\",\"3\":\"Three\",\"4\":\"Four\"}\n",
    "print (phone[\"1\"])\n",
    "y=\"\"\n",
    "askphone=input(\"Enter Phone \")\n",
    "for i in range(len(askphone)):\n",
    "  x=askphone[i]\n",
    "  #print(x)\n",
    "  y=f\"{y} {phone[x]}\"\n",
    "\n",
    "print(y)\n",
    "print(phone.get(\"2\"))"
   ]
  },
  {
   "cell_type": "code",
   "execution_count": 7,
   "metadata": {},
   "outputs": [
    {
     "name": "stdout",
     "output_type": "stream",
     "text": [
      ">good morning\n",
      "good morning \n"
     ]
    }
   ],
   "source": [
    "#Functions 2:30\n",
    "def emoji_converter(message):\n",
    "    words=message.split(\" \")\n",
    "    emojis={\"happy\":\"😊\",\"sad\":\"😒\"}\n",
    "    output=\"\"\n",
    "    for word in words:\n",
    "        output += emojis.get(word,word) +\" \"\n",
    "    return output\n",
    "\n",
    "\n",
    "message=input(\">\")\n",
    "print (emoji_converter(message))\n"
   ]
  },
  {
   "cell_type": "code",
   "execution_count": 9,
   "metadata": {},
   "outputs": [
    {
     "name": "stdout",
     "output_type": "stream",
     "text": [
      "Agea\n",
      "Invalid age\n"
     ]
    }
   ],
   "source": [
    "#Error Handling 2:54\n",
    "# Exit code <> 0 is Error\n",
    "#ValueError is when a non numerical value is converted to numerical and it fails\n",
    "#ZeroDivisionError\n",
    "try:\n",
    "    age=int(input(\"Age\"))\n",
    "        print(age)\n",
    "except ValueError:\n",
    "    print (\"Invalid age\")"
   ]
  },
  {
   "cell_type": "code",
   "execution_count": 15,
   "metadata": {},
   "outputs": [
    {
     "name": "stdout",
     "output_type": "stream",
     "text": [
      "Vergis\n",
      "talk Vergis\n",
      "None\n"
     ]
    }
   ],
   "source": [
    "#Classes 3:02\n",
    "class Person:\n",
    "    def __init__(self,person):\n",
    "        self.person=person\n",
    "    def talk(self):\n",
    "        print(f\"talk {self.person}\")\n",
    "        \n",
    "        \n",
    "person1=Person(\"Vergis\")\n",
    "print(person1.person)\n",
    "print(person1.talk())\n",
    "\n"
   ]
  },
  {
   "cell_type": "code",
   "execution_count": 6,
   "metadata": {},
   "outputs": [
    {
     "name": "stdout",
     "output_type": "stream",
     "text": [
      "talk\n",
      "Dog talk\n"
     ]
    }
   ],
   "source": [
    "#3:14 Inheritance\n",
    "#3:25 Modules. Organise Code into Functions, Modules and Classes.\n",
    "class Cat:\n",
    "    def talk(self):\n",
    "        print(f\"talk\")\n",
    "class Dog(Cat):\n",
    "    def talk(self):\n",
    "        print(f\"Dog talk\")\n",
    "        \n",
    "        \n",
    "animal1=Cat()\n",
    "animal1.talk()\n",
    "animal2=Dog()\n",
    "animal2.talk()"
   ]
  },
  {
   "cell_type": "code",
   "execution_count": 12,
   "metadata": {},
   "outputs": [
    {
     "name": "stdout",
     "output_type": "stream",
     "text": [
      "100\n"
     ]
    }
   ],
   "source": [
    "#Import function from module\n",
    "#Module is a file that contains classes, def, variables\n",
    "#modules are organised into packages\n",
    "\n",
    "#from utils import find_max\n",
    "import utils\n",
    "numbers=[100,3,4,5]\n",
    "max=utils.find_max(numbers)\n",
    "print(max)\n"
   ]
  },
  {
   "cell_type": "code",
   "execution_count": null,
   "metadata": {},
   "outputs": [],
   "source": [
    "#Another way of using a method\n",
    "from utils import find_max\n",
    "#import utils\n",
    "numbers=[100,3,4,5]\n",
    "max=find_max(numbers)\n",
    "print(max)"
   ]
  },
  {
   "cell_type": "code",
   "execution_count": null,
   "metadata": {},
   "outputs": [],
   "source": [
    "#3:30 packages in python\n",
    "import ecommerce\n",
    "    "
   ]
  },
  {
   "cell_type": "code",
   "execution_count": 15,
   "metadata": {},
   "outputs": [
    {
     "name": "stdout",
     "output_type": "stream",
     "text": [
      "(4, 1)\n"
     ]
    }
   ],
   "source": [
    "#3:42 return dice value\n",
    "import dice.dice\n",
    "d1=Dice()\n",
    "print (d1.roll())"
   ]
  },
  {
   "cell_type": "code",
   "execution_count": 14,
   "metadata": {},
   "outputs": [],
   "source": [
    "#3:45 Pathlib for Directory Manipulation\n",
    "from pathlib import Path\n",
    "#path.rmdir\n",
    "#path.mkdir\n",
    "#path.glob to search for a pattern\n"
   ]
  },
  {
   "cell_type": "code",
   "execution_count": 31,
   "metadata": {},
   "outputs": [],
   "source": [
    "#3:53\n",
    "#PyPI has got a library of packages written by others\n",
    "#https://pypi.org/\n",
    "#3:56 Excel File Manipulation and Add a chart\n",
    "import openpyxl as xl\n",
    "from openpyxl.chart import BarChart,Reference\n"
   ]
  },
  {
   "cell_type": "code",
   "execution_count": 34,
   "metadata": {},
   "outputs": [],
   "source": [
    "loc='C:\\\\Users\\\\vergist\\\\Documents\\\\Python Scripts\\\\Python-Tutorial-Supplementary-Materials\\\\Python Tutorial Supplementary Materials\\\\transactions.xlsx'\n",
    "#Always remember to organise code into functions,Class, modules, packages\n",
    "def process_workbook(filename):\n",
    "    wb=xl.load_workbook(loc)\n",
    "    #print (sheet.max_row)\n",
    "    for row in range(2,sheet.max_row+1):\n",
    "        cell=sheet.cell(row,3)\n",
    "        corrected_price=cell.value*0.9\n",
    "        corrected_price_cell=sheet.cell(row,4)\n",
    "        corrected_price_cell.value=corrected_price\n",
    "    wb.save(loc)\n",
    "  \n",
    "    values=Reference(sheet,min_row=2,max_row=sheet.max_row,min_col=4,max_col=4)\n",
    "    chart=BarChart()\n",
    "    chart.add_data(values)\n",
    "    sheet.add_chart(chart,'e2')\n",
    "    wb.save(loc)"
   ]
  },
  {
   "cell_type": "code",
   "execution_count": 35,
   "metadata": {},
   "outputs": [],
   "source": [
    "process_workbook(loc)\n",
    "#04:12 "
   ]
  },
  {
   "cell_type": "code",
   "execution_count": 24,
   "metadata": {},
   "outputs": [],
   "source": [
    "#machine Learning Libraries numpy, pandas,matplotlib,scikit-learn (decision trees, neural network etc)\n",
    "#kaggle is a good place for datascience projects use dataset Video game sales\n",
    "#04:32 A Real Program for machine learning"
   ]
  },
  {
   "cell_type": "code",
   "execution_count": 25,
   "metadata": {},
   "outputs": [],
   "source": [
    "#04:39 Decision Trees Classifier Model Training with sklearn"
   ]
  },
  {
   "cell_type": "code",
   "execution_count": null,
   "metadata": {},
   "outputs": [],
   "source": [
    "#4:49 Model Persistence Train your model and Persist. Next time Load the model from File.\n",
    "from sklearn.externals import joblib\n",
    "# joblib.dump (model,'filename.joblib')\n",
    "# joblib.load('filename.joblib')\n",
    "#Graphviz Tree\n",
    "# from sklearn import tree\n",
    "# Create a dot file and open in VScode , install extension for dot , Graphviz by Stephan viz\n",
    "# Read CSV\n",
    "# Split to Input and Output\n",
    "# Model using sklearn.tree using DecisionTreeClassifier\n",
    "# model.fit\n",
    "# tree.export_graphviz\n",
    "\n"
   ]
  },
  {
   "cell_type": "code",
   "execution_count": null,
   "metadata": {},
   "outputs": [],
   "source": [
    "#4:59 WEBSITE WITH DJANGO\n",
    "# Start a project in current folder\n",
    "django-admin startproject pyshop .\n",
    "python manage.py runserver\n",
    "\n",
    "#5:05 First Django WebApp\n",
    "# To add a app called product\n",
    "\n",
    "python manage.py startapp products\n",
    "\n",
    "IN pyshop.urls include the below\n",
    "\n",
    "path('products/',include('products.urls'))"
   ]
  },
  {
   "cell_type": "code",
   "execution_count": null,
   "metadata": {},
   "outputs": [],
   "source": [
    "#5:22 models - How to create a model in Django Framework. Refer Pycharm Project\n",
    "# Products models.py Add the Product Class\n",
    "#Pyshop Settings Add the App Config as per apps.py\n",
    "#Terminal run python manage.py makemigrations\n",
    "#Terminal run python manage.py migrate\n",
    "#After installing DB Browser for SQL Lite open the Application and Drop the DB.SQLLite into DBBrowser at 05:33\n",
    "#Exercise Create an oFfer class and add attributes Code, Description, Discount.\n",
    "# Products models.py Add the Offer Class\n",
    "\n",
    "#Terminal run python manage.py makemigrations\n",
    "\n",
    "#At any time to run the webserver python manage.py runserver"
   ]
  },
  {
   "cell_type": "code",
   "execution_count": null,
   "metadata": {},
   "outputs": [],
   "source": [
    "#Admin of the webserver\n",
    "#Create a superuser python manage.py createsuperuser\n",
    "#How to Customise the Admin module to Add Products\n",
    "# Go to Admin.py under products module 05:38\n",
    "\n",
    "#5:43 How to add admin UI on Product\n",
    "## Onadmin.py \n",
    "# class ProductAdmin(admin.ModelAdmin):\n",
    "#     list_display = ('name','price','stock')\n",
    "\n",
    "\n",
    "# admin.site.register(Product,ProductAdmin)\n",
    "#How to Display the list for non admin users\n",
    "\n",
    "#Exercise Create Admin for Offer\n",
    "\n",
    "#5:48 Templates How to replace List of Products for non admin users\n",
    "# There must be templates folder under the app. Have the HTML template in there index.html"
   ]
  },
  {
   "cell_type": "code",
   "execution_count": null,
   "metadata": {},
   "outputs": [],
   "source": [
    "#5:57 Adding Bootstrap, Bootstrap framework. getbootstrap.com\n",
    "#6:01 Bootstrap Rendering cards Get the Card component code from Bootstrap.com Look at base.html and index.html of how its used\n",
    "#6:06 Final touches\n",
    "# From bootstrap use the Navbar Brand use in base.html\n",
    "#In pyshop settings.py update templates to look for BASE_DIR and append the templates folder\n"
   ]
  }
 ],
 "metadata": {
  "kernelspec": {
   "display_name": "Python 3",
   "language": "python",
   "name": "python3"
  },
  "language_info": {
   "codemirror_mode": {
    "name": "ipython",
    "version": 3
   },
   "file_extension": ".py",
   "mimetype": "text/x-python",
   "name": "python",
   "nbconvert_exporter": "python",
   "pygments_lexer": "ipython3",
   "version": "3.7.4"
  }
 },
 "nbformat": 4,
 "nbformat_minor": 2
}
