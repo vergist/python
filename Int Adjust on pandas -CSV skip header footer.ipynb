{
 "cells": [
  {
   "cell_type": "markdown",
   "metadata": {},
   "source": [
    "# Interest Adjustment Program \n",
    "## Baselined 19-July-2019 (Still in Dev)\n",
    "\n",
    "# Read Excel with Source Data"
   ]
  },
  {
   "cell_type": "code",
   "execution_count": 167,
   "metadata": {},
   "outputs": [
    {
     "name": "stdout",
     "output_type": "stream",
     "text": [
      "-f\n"
     ]
    }
   ],
   "source": [
    "#Please copy blank exclusion files if the country does not have any data for a type of exclusion namely settlement, refinance, insurance, exclusion\n",
    "#for TZ please rename the Interestcappedcheck to VarianceToInterest_Capped in the source file\n",
    "#vergist@bayportfinance.com\n",
    "import pandas as pd\n",
    "import sys as sys\n",
    "#paramfileloc=sys.argv[1]\n",
    "paramfileloc = input(\"Enter file name of the param file: \") \n",
    "#print(paramfileloc) \n",
    "#paramfileloc=r\"C:\\Users\\vergist\\Downloads\\Int Adjust\\201904\\May 2019\\MZ\\201904 param.xlsx\"\n",
    "#params=pd.read_excel (io=paramfileloc,sheet_name=\"Sheet1\")\n",
    "paramfileloc=\"\".join(paramfileloc)\n",
    "print(paramfileloc) "
   ]
  },
  {
   "cell_type": "code",
   "execution_count": 41,
   "metadata": {},
   "outputs": [],
   "source": [
    "params=pd.read_excel (io=paramfileloc,sheet_name=\"Sheet1\")"
   ]
  },
  {
   "cell_type": "code",
   "execution_count": 42,
   "metadata": {},
   "outputs": [
    {
     "data": {
      "text/html": [
       "<div>\n",
       "<style scoped>\n",
       "    .dataframe tbody tr th:only-of-type {\n",
       "        vertical-align: middle;\n",
       "    }\n",
       "\n",
       "    .dataframe tbody tr th {\n",
       "        vertical-align: top;\n",
       "    }\n",
       "\n",
       "    .dataframe thead th {\n",
       "        text-align: right;\n",
       "    }\n",
       "</style>\n",
       "<table border=\"1\" class=\"dataframe\">\n",
       "  <thead>\n",
       "    <tr style=\"text-align: right;\">\n",
       "      <th></th>\n",
       "      <th>Period</th>\n",
       "      <th>tomfolder</th>\n",
       "      <th>tomfile</th>\n",
       "      <th>sheetname</th>\n",
       "      <th>fileloc</th>\n",
       "      <th>settlefile</th>\n",
       "      <th>insfile</th>\n",
       "      <th>Replacementfile</th>\n",
       "      <th>Exclusionfile</th>\n",
       "      <th>settheader</th>\n",
       "      <th>insheader</th>\n",
       "      <th>replacementheader</th>\n",
       "      <th>exclusionheader</th>\n",
       "    </tr>\n",
       "  </thead>\n",
       "  <tbody>\n",
       "    <tr>\n",
       "      <th>0</th>\n",
       "      <td>201906</td>\n",
       "      <td>C:\\Users\\vergist\\Downloads\\Int Adjust\\201906\\MZ</td>\n",
       "      <td>201906 MZ Int Adjust.xlsx</td>\n",
       "      <td>MZ</td>\n",
       "      <td>C:\\Users\\vergist\\Downloads\\Int Adjust\\201906\\MZ</td>\n",
       "      <td>Outright_Settlements-2000000006666-1-of-1.csv</td>\n",
       "      <td>Insurance_Claims-2000000006668-1-of-1.csv</td>\n",
       "      <td>Replacement_Settlement_Consolidated_Report-2000000006665-1-of-1.csv</td>\n",
       "      <td>Consolidated_Daily_Loan_Status_Report-2000000006667-1-of-1.csv</td>\n",
       "      <td>13</td>\n",
       "      <td>11</td>\n",
       "      <td>12</td>\n",
       "      <td>14</td>\n",
       "    </tr>\n",
       "  </tbody>\n",
       "</table>\n",
       "</div>"
      ],
      "text/plain": [
       "   Period                                        tomfolder  \\\n",
       "0  201906  C:\\Users\\vergist\\Downloads\\Int Adjust\\201906\\MZ   \n",
       "\n",
       "                     tomfile sheetname  \\\n",
       "0  201906 MZ Int Adjust.xlsx        MZ   \n",
       "\n",
       "                                           fileloc  \\\n",
       "0  C:\\Users\\vergist\\Downloads\\Int Adjust\\201906\\MZ   \n",
       "\n",
       "                                      settlefile  \\\n",
       "0  Outright_Settlements-2000000006666-1-of-1.csv   \n",
       "\n",
       "                                     insfile  \\\n",
       "0  Insurance_Claims-2000000006668-1-of-1.csv   \n",
       "\n",
       "                                                       Replacementfile  \\\n",
       "0  Replacement_Settlement_Consolidated_Report-2000000006665-1-of-1.csv   \n",
       "\n",
       "                                                    Exclusionfile  settheader  \\\n",
       "0  Consolidated_Daily_Loan_Status_Report-2000000006667-1-of-1.csv          13   \n",
       "\n",
       "   insheader  replacementheader  exclusionheader  \n",
       "0         11                 12               14  "
      ]
     },
     "execution_count": 42,
     "metadata": {},
     "output_type": "execute_result"
    }
   ],
   "source": [
    "params"
   ]
  },
  {
   "cell_type": "code",
   "execution_count": 4,
   "metadata": {},
   "outputs": [
    {
     "name": "stdout",
     "output_type": "stream",
     "text": [
      "0    C:\\Users\\vergist\\Downloads\\Int Adjust\\201906\\MZ\n",
      "Name: tomfolder, dtype: object\n"
     ]
    }
   ],
   "source": [
    "tomfolder=params['tomfolder'].astype(str)\n",
    "#tomfolder=tomfolder.astype(str)\n",
    "pd.set_option('max_colwidth', 8000)\n",
    "print (tomfolder)"
   ]
  },
  {
   "cell_type": "code",
   "execution_count": 7,
   "metadata": {},
   "outputs": [
    {
     "name": "stdout",
     "output_type": "stream",
     "text": [
      "Period is 0    201906\n",
      "Name: Period, dtype: object\n"
     ]
    }
   ],
   "source": [
    "period=params['Period'].astype(str)\n",
    "#tomfile=tomfolder.astype(str)\n",
    "print(\"Period is\",period)"
   ]
  },
  {
   "cell_type": "code",
   "execution_count": 9,
   "metadata": {},
   "outputs": [
    {
     "name": "stdout",
     "output_type": "stream",
     "text": [
      "0    201906 MZ Int Adjust.xlsx\n",
      "Name: tomfile, dtype: object\n"
     ]
    }
   ],
   "source": [
    "tomfile=params['tomfile'].astype(str)\n",
    "#tomfile=tomfolder.astype(str)\n",
    "print(tomfile)\n"
   ]
  },
  {
   "cell_type": "code",
   "execution_count": 10,
   "metadata": {},
   "outputs": [
    {
     "name": "stdout",
     "output_type": "stream",
     "text": [
      "sheetname  MZ\n"
     ]
    }
   ],
   "source": [
    "sheetname=params['sheetname'].astype(str)\n",
    "\n",
    "sheetname=\"\".join(sheetname)\n",
    "print('sheetname  ' +sheetname)"
   ]
  },
  {
   "cell_type": "code",
   "execution_count": 11,
   "metadata": {},
   "outputs": [],
   "source": [
    "fileloc=params['fileloc']"
   ]
  },
  {
   "cell_type": "code",
   "execution_count": 43,
   "metadata": {},
   "outputs": [],
   "source": [
    "settlefile=params['settlefile']"
   ]
  },
  {
   "cell_type": "code",
   "execution_count": 44,
   "metadata": {},
   "outputs": [],
   "source": [
    "insfile=params['insfile']"
   ]
  },
  {
   "cell_type": "code",
   "execution_count": 45,
   "metadata": {},
   "outputs": [],
   "source": [
    "Replacementfile=params['Replacementfile']"
   ]
  },
  {
   "cell_type": "code",
   "execution_count": 46,
   "metadata": {},
   "outputs": [],
   "source": [
    "Exclusionfile=params['Exclusionfile']"
   ]
  },
  {
   "cell_type": "code",
   "execution_count": 47,
   "metadata": {},
   "outputs": [],
   "source": [
    "settheader=params['settheader']"
   ]
  },
  {
   "cell_type": "code",
   "execution_count": 48,
   "metadata": {},
   "outputs": [],
   "source": [
    "insheader=params['insheader']"
   ]
  },
  {
   "cell_type": "code",
   "execution_count": 49,
   "metadata": {},
   "outputs": [],
   "source": [
    "replacementheader=params['replacementheader']"
   ]
  },
  {
   "cell_type": "code",
   "execution_count": 50,
   "metadata": {},
   "outputs": [],
   "source": [
    "exclusionheader=params['exclusionheader']"
   ]
  },
  {
   "cell_type": "code",
   "execution_count": 20,
   "metadata": {},
   "outputs": [
    {
     "data": {
      "text/plain": [
       "'C:\\\\Users\\\\vergist\\\\Downloads\\\\Int Adjust\\\\201906\\\\MZ\\\\201906 MZ Int Adjust.xlsx'"
      ]
     },
     "execution_count": 20,
     "metadata": {},
     "output_type": "execute_result"
    }
   ],
   "source": [
    "#fileloc=\"C:\\\\Users\\\\vergist\\\\Downloads\\\\Int Adjust\\\\201904\\\\May 2019\\\\BFS\\\\\"\n",
    "#tomfolder=\"C:\\\\Users\\\\vergist\\\\Downloads\\\\Int Adjust\\\\201904\\\\\"\n",
    "#tomfile=\"BFS.xlsx\"\n",
    "#sheetname=[\"GH_BFS\"]\n",
    "readtomfile=\"\".join(tomfolder)\n",
    "readtomfile=readtomfile+\"\\\\\"+readtomfile.join(tomfile)\n",
    "#readtomfile=tomfolder+tomfile\n",
    "#print (readtomfile)\n",
    "#print (readtomfile,sheetname)\n",
    "readtomfile"
   ]
  },
  {
   "cell_type": "code",
   "execution_count": 21,
   "metadata": {},
   "outputs": [
    {
     "name": "stdout",
     "output_type": "stream",
     "text": [
      "Reading Finance file now....\n",
      "2019-07-19 21:30:21.047798\n",
      "Finished Reading Finance file \n"
     ]
    }
   ],
   "source": [
    "import datetime\n",
    "print ('Reading Finance file now....')\n",
    "d1=datetime.datetime.now()\n",
    "print (d1)\n",
    "df_tomfile=pd.read_excel (io=readtomfile,sheet_name=sheetname)\n",
    "d2=datetime.datetime.now()\n",
    "print ('Finished Reading Finance file ')"
   ]
  },
  {
   "cell_type": "code",
   "execution_count": 22,
   "metadata": {},
   "outputs": [
    {
     "name": "stdout",
     "output_type": "stream",
     "text": [
      "Time taken to read file 0:04:43.274956\n"
     ]
    }
   ],
   "source": [
    "print ('Time taken to read file' ,d2-d1)"
   ]
  },
  {
   "cell_type": "code",
   "execution_count": 23,
   "metadata": {},
   "outputs": [],
   "source": [
    "df_tomfile1=df_tomfile[[\"LoanID\",\"DebtorCode\",\"VarianceToInterest_Capped\"]]"
   ]
  },
  {
   "cell_type": "code",
   "execution_count": 29,
   "metadata": {},
   "outputs": [
    {
     "name": "stdout",
     "output_type": "stream",
     "text": [
      "Number of records read LoanID                       86431\n",
      "DebtorCode                   86431\n",
      "VarianceToInterest_Capped    86431\n",
      "dtype: int64\n"
     ]
    }
   ],
   "source": [
    "print (\"Number of records read\",df_tomfile1.count())"
   ]
  },
  {
   "cell_type": "markdown",
   "metadata": {},
   "source": [
    "## Drop zero value records"
   ]
  },
  {
   "cell_type": "code",
   "execution_count": 30,
   "metadata": {},
   "outputs": [],
   "source": [
    "df_tomfile2=df_tomfile1[df_tomfile1[\"VarianceToInterest_Capped\"]!=0.00]"
   ]
  },
  {
   "cell_type": "code",
   "execution_count": 31,
   "metadata": {},
   "outputs": [],
   "source": [
    "df_tomfilezero=df_tomfile1[df_tomfile1[\"VarianceToInterest_Capped\"]==0.00]"
   ]
  },
  {
   "cell_type": "code",
   "execution_count": 33,
   "metadata": {},
   "outputs": [
    {
     "data": {
      "text/plain": [
       "'C:\\\\Users\\\\vergist\\\\Downloads\\\\Int Adjust\\\\201906\\\\MZ\\\\AfterDroppingzeroint.csv'"
      ]
     },
     "execution_count": 33,
     "metadata": {},
     "output_type": "execute_result"
    }
   ],
   "source": [
    "filename=\"\".join(fileloc)\n",
    "filename=filename+\"\".join('\\\\')+\"\".join('AfterDroppingzeroint.csv')\n",
    "filename"
   ]
  },
  {
   "cell_type": "code",
   "execution_count": 35,
   "metadata": {},
   "outputs": [
    {
     "name": "stdout",
     "output_type": "stream",
     "text": [
      "Number of records after dropping zeroes LoanID                       86397\n",
      "DebtorCode                   86397\n",
      "VarianceToInterest_Capped    86397\n",
      "dtype: int64\n"
     ]
    }
   ],
   "source": [
    "\n",
    "print (\"Number of records after dropping zeroes\",df_tomfile2.count())\n",
    "#below works\n",
    "#df_tomfile2.to_csv(r'C:\\Users\\vergist\\Downloads\\Int Adjust\\201904\\May 2019\\BFS\\AfterDroppingzeroint.csv',columns=['LoanID','VarianceToInterest_Capped'],header=False,index=False)\n",
    "#After dropping zeroes\n",
    "df_tomfile2.to_csv(filename,columns=['LoanID','VarianceToInterest_Capped'],header=False,index=False)\n"
   ]
  },
  {
   "cell_type": "code",
   "execution_count": 36,
   "metadata": {},
   "outputs": [
    {
     "data": {
      "text/plain": [
       "'C:\\\\Users\\\\vergist\\\\Downloads\\\\Int Adjust\\\\201906\\\\MZ\\\\zeroamounts.csv'"
      ]
     },
     "execution_count": 36,
     "metadata": {},
     "output_type": "execute_result"
    }
   ],
   "source": [
    "filename=\"\".join(fileloc)\n",
    "filename=filename+\"\".join('\\\\')+\"\".join('zeroamounts.csv')\n",
    "filename"
   ]
  },
  {
   "cell_type": "code",
   "execution_count": 37,
   "metadata": {},
   "outputs": [],
   "source": [
    "\n",
    "#df_tomfilezero.to_csv(r'C:\\Users\\vergist\\Downloads\\Int Adjust\\201904\\May 2019\\BFS\\zeroamounts.csv',columns=['LoanID','VarianceToInterest_Capped'],header=False,index=False)\n",
    "#zero value lines file\n",
    "df_tomfilezero.to_csv(filename,columns=['LoanID','VarianceToInterest_Capped'],header=False,index=False)"
   ]
  },
  {
   "cell_type": "code",
   "execution_count": 54,
   "metadata": {},
   "outputs": [
    {
     "data": {
      "text/plain": [
       "'C:\\\\Users\\\\vergist\\\\Downloads\\\\Int Adjust\\\\201906\\\\MZ\\\\Outright_Settlements-2000000006666-1-of-1.csv'"
      ]
     },
     "execution_count": 54,
     "metadata": {},
     "output_type": "execute_result"
    }
   ],
   "source": [
    "#fileloc+settlefile\n",
    "filename=\"\".join(fileloc)\n",
    "filename=filename+\"\".join('\\\\')+\"\".join(settlefile)\n",
    "filename"
   ]
  },
  {
   "cell_type": "markdown",
   "metadata": {},
   "source": [
    "# Read settled loans"
   ]
  },
  {
   "cell_type": "code",
   "execution_count": 63,
   "metadata": {},
   "outputs": [
    {
     "name": "stdout",
     "output_type": "stream",
     "text": [
      "C:\\Users\\vergist\\Downloads\\Int Adjust\\201906\\MZ\\Outright_Settlements-2000000006666-1-of-1.csv\n",
      "13\n"
     ]
    },
    {
     "data": {
      "text/plain": [
       "pandas.core.series.Series"
      ]
     },
     "execution_count": 63,
     "metadata": {},
     "output_type": "execute_result"
    }
   ],
   "source": [
    "print(filename)\n",
    "print(settheader[0])\n",
    "settheader.dtype\n",
    "type(settheader)"
   ]
  },
  {
   "cell_type": "code",
   "execution_count": 61,
   "metadata": {},
   "outputs": [],
   "source": [
    "\n",
    "settledloan=pd.read_csv(filename,usecols=[\"ClientID\"],skiprows=settheader[0])\n"
   ]
  },
  {
   "cell_type": "code",
   "execution_count": 67,
   "metadata": {},
   "outputs": [
    {
     "data": {
      "text/plain": [
       "(199, 1)"
      ]
     },
     "execution_count": 67,
     "metadata": {},
     "output_type": "execute_result"
    }
   ],
   "source": [
    "settledloan.shape"
   ]
  },
  {
   "cell_type": "code",
   "execution_count": 68,
   "metadata": {},
   "outputs": [
    {
     "name": "stdout",
     "output_type": "stream",
     "text": [
      "C:\\Users\\vergist\\Downloads\\Int Adjust\\201906\\MZ\\Outright_Settlements-2000000006666-1-of-1.csv\n"
     ]
    }
   ],
   "source": [
    "print(filename)"
   ]
  },
  {
   "cell_type": "code",
   "execution_count": 71,
   "metadata": {},
   "outputs": [
    {
     "name": "stdout",
     "output_type": "stream",
     "text": [
      "Number of Settled records read= 199\n"
     ]
    }
   ],
   "source": [
    "print ('Number of Settled records read=',settledloan.shape[0])"
   ]
  },
  {
   "cell_type": "code",
   "execution_count": 72,
   "metadata": {},
   "outputs": [],
   "source": [
    "settledloan1=settledloan.ClientID.str.replace(\"\\'\",\"\")\n"
   ]
  },
  {
   "cell_type": "code",
   "execution_count": 73,
   "metadata": {},
   "outputs": [],
   "source": [
    "#settledloan1=[settledloan1.rename(columns={'ClientID': 'DebtorCode'})]\n",
    "settledloan1=pd.DataFrame(settledloan1)"
   ]
  },
  {
   "cell_type": "code",
   "execution_count": 75,
   "metadata": {},
   "outputs": [
    {
     "name": "stdout",
     "output_type": "stream",
     "text": [
      "Settled records  DebtorCode    195\n",
      "dtype: int64\n"
     ]
    }
   ],
   "source": [
    "settledloan1.columns=['DebtorCode']\n",
    "print(\"Settled records \", settledloan1.count())"
   ]
  },
  {
   "cell_type": "code",
   "execution_count": 79,
   "metadata": {},
   "outputs": [
    {
     "name": "stdout",
     "output_type": "stream",
     "text": [
      "Loan records\n",
      " LoanID                       86397\n",
      "DebtorCode                   86397\n",
      "VarianceToInterest_Capped    86397\n",
      "dtype: int64\n"
     ]
    }
   ],
   "source": [
    "#df_tomfile3 = pd.merge(df_tomfile2, settledloan3, on='DebtorCode',how='outer')\n",
    "\n",
    "print(\"Loan records\\n\",df_tomfile2.count())"
   ]
  },
  {
   "cell_type": "code",
   "execution_count": 80,
   "metadata": {},
   "outputs": [],
   "source": [
    "settledloan1=settledloan1.dropna()"
   ]
  },
  {
   "cell_type": "code",
   "execution_count": 82,
   "metadata": {},
   "outputs": [
    {
     "name": "stdout",
     "output_type": "stream",
     "text": [
      "Settled records DebtorCode    195\n",
      "dtype: int64\n"
     ]
    }
   ],
   "source": [
    "settledloan1['DebtorCode']=settledloan1['DebtorCode'].astype('int64')\n",
    "print(\"Settled records\",settledloan1.count())"
   ]
  },
  {
   "cell_type": "markdown",
   "metadata": {},
   "source": [
    "## Remove Settled Loans"
   ]
  },
  {
   "cell_type": "code",
   "execution_count": 83,
   "metadata": {},
   "outputs": [],
   "source": [
    "df_tomfile3=df_tomfile2[~df_tomfile2['DebtorCode'].isin(settledloan1['DebtorCode'])]"
   ]
  },
  {
   "cell_type": "code",
   "execution_count": 84,
   "metadata": {},
   "outputs": [
    {
     "data": {
      "text/plain": [
       "'C:\\\\Users\\\\vergist\\\\Downloads\\\\Int Adjust\\\\201906\\\\MZ\\\\AfterDroppingSettledLoan.csv'"
      ]
     },
     "execution_count": 84,
     "metadata": {},
     "output_type": "execute_result"
    }
   ],
   "source": [
    "filename=\"\"\n",
    "filename=\"\".join(fileloc)\n",
    "filename=filename+\"\".join('\\\\')+\"\".join('AfterDroppingSettledLoan.csv')\n",
    "filename"
   ]
  },
  {
   "cell_type": "code",
   "execution_count": 85,
   "metadata": {},
   "outputs": [],
   "source": [
    "df_tomfile3.count()\n",
    "df_tomfile3.to_csv(filename,columns=['LoanID','VarianceToInterest_Capped'],header=False,index=False)"
   ]
  },
  {
   "cell_type": "code",
   "execution_count": 86,
   "metadata": {},
   "outputs": [],
   "source": [
    "df_tomfilesettled=df_tomfile2[df_tomfile2['DebtorCode'].isin(settledloan1['DebtorCode'])]"
   ]
  },
  {
   "cell_type": "code",
   "execution_count": 87,
   "metadata": {},
   "outputs": [
    {
     "data": {
      "text/plain": [
       "'C:\\\\Users\\\\vergist\\\\Downloads\\\\Int Adjust\\\\201906\\\\MZ\\\\settledrecords.csv'"
      ]
     },
     "execution_count": 87,
     "metadata": {},
     "output_type": "execute_result"
    }
   ],
   "source": [
    "filename=\"\".join(fileloc)\n",
    "filename=filename+\"\".join('\\\\')+\"\".join('settledrecords.csv')\n",
    "filename"
   ]
  },
  {
   "cell_type": "code",
   "execution_count": 88,
   "metadata": {},
   "outputs": [],
   "source": [
    "df_tomfilesettled.to_csv(filename,columns=['LoanID','VarianceToInterest_Capped'],header=False,index=False)"
   ]
  },
  {
   "cell_type": "markdown",
   "metadata": {},
   "source": [
    "## Remove Insurance Claims"
   ]
  },
  {
   "cell_type": "code",
   "execution_count": 89,
   "metadata": {},
   "outputs": [
    {
     "data": {
      "text/plain": [
       "'C:\\\\Users\\\\vergist\\\\Downloads\\\\Int Adjust\\\\201906\\\\MZ\\\\Insurance_Claims-2000000006668-1-of-1.csv'"
      ]
     },
     "execution_count": 89,
     "metadata": {},
     "output_type": "execute_result"
    }
   ],
   "source": [
    "filename=\"\".join(fileloc)\n",
    "filename=filename+\"\".join('\\\\')+\"\".join(insfile)\n",
    "filename"
   ]
  },
  {
   "cell_type": "code",
   "execution_count": 91,
   "metadata": {},
   "outputs": [],
   "source": [
    "#BFS,CFC,MZ has 11 skiprows before CSV\n",
    "InsClaimloan=pd.read_csv(filename,usecols=[\"LoanID\"],skiprows=insheader[0])\n"
   ]
  },
  {
   "cell_type": "code",
   "execution_count": 93,
   "metadata": {},
   "outputs": [
    {
     "name": "stdout",
     "output_type": "stream",
     "text": [
      "Insurance records read (1218, 1)\n"
     ]
    }
   ],
   "source": [
    "print(\"Insurance records read\",InsClaimloan.shape)"
   ]
  },
  {
   "cell_type": "code",
   "execution_count": 94,
   "metadata": {},
   "outputs": [],
   "source": [
    "#InsClaimloan"
   ]
  },
  {
   "cell_type": "code",
   "execution_count": 95,
   "metadata": {},
   "outputs": [],
   "source": [
    "InsClaimloan1=InsClaimloan.LoanID.str.replace(\"\\'\",\"\")"
   ]
  },
  {
   "cell_type": "code",
   "execution_count": 96,
   "metadata": {},
   "outputs": [],
   "source": [
    "InsClaimloan1=pd.DataFrame(InsClaimloan1)"
   ]
  },
  {
   "cell_type": "code",
   "execution_count": 97,
   "metadata": {},
   "outputs": [
    {
     "name": "stdout",
     "output_type": "stream",
     "text": [
      "Insurance count (1218, 1)\n"
     ]
    }
   ],
   "source": [
    "print('Insurance count',InsClaimloan.shape)"
   ]
  },
  {
   "cell_type": "code",
   "execution_count": 98,
   "metadata": {},
   "outputs": [],
   "source": [
    "InsClaimloan1=InsClaimloan1.dropna()"
   ]
  },
  {
   "cell_type": "code",
   "execution_count": 99,
   "metadata": {},
   "outputs": [
    {
     "name": "stdout",
     "output_type": "stream",
     "text": [
      "After Drop null values from Insurance (1214, 1)\n"
     ]
    }
   ],
   "source": [
    "print('After Drop null values from Insurance',InsClaimloan1.shape)"
   ]
  },
  {
   "cell_type": "code",
   "execution_count": 100,
   "metadata": {},
   "outputs": [
    {
     "data": {
      "text/plain": [
       "LoanID                       86213\n",
       "DebtorCode                   86213\n",
       "VarianceToInterest_Capped    86213\n",
       "dtype: int64"
      ]
     },
     "execution_count": 100,
     "metadata": {},
     "output_type": "execute_result"
    }
   ],
   "source": [
    "df_tomfile3.count()"
   ]
  },
  {
   "cell_type": "code",
   "execution_count": 101,
   "metadata": {},
   "outputs": [],
   "source": [
    "df_tomfile4=df_tomfile3[~df_tomfile3['LoanID'].isin(InsClaimloan1['LoanID'])]"
   ]
  },
  {
   "cell_type": "code",
   "execution_count": 102,
   "metadata": {},
   "outputs": [
    {
     "data": {
      "text/plain": [
       "LoanID                       86205\n",
       "DebtorCode                   86205\n",
       "VarianceToInterest_Capped    86205\n",
       "dtype: int64"
      ]
     },
     "execution_count": 102,
     "metadata": {},
     "output_type": "execute_result"
    }
   ],
   "source": [
    "df_tomfile4.count()"
   ]
  },
  {
   "cell_type": "code",
   "execution_count": 103,
   "metadata": {},
   "outputs": [
    {
     "data": {
      "text/plain": [
       "'C:\\\\Users\\\\vergist\\\\Downloads\\\\Int Adjust\\\\201906\\\\MZ\\\\AfterDroppingInsclaim.csv'"
      ]
     },
     "execution_count": 103,
     "metadata": {},
     "output_type": "execute_result"
    }
   ],
   "source": [
    "filename=\"\".join(fileloc)\n",
    "filename=filename+\"\".join('\\\\')+\"\".join('AfterDroppingInsclaim.csv')\n",
    "filename"
   ]
  },
  {
   "cell_type": "code",
   "execution_count": 104,
   "metadata": {},
   "outputs": [],
   "source": [
    "df_tomfile4.count()\n",
    "df_tomfile4.to_csv(filename,columns=['LoanID','VarianceToInterest_Capped'],header=False,index=False)"
   ]
  },
  {
   "cell_type": "code",
   "execution_count": 105,
   "metadata": {},
   "outputs": [],
   "source": [
    "df_tomfileinsclaim=df_tomfile3[df_tomfile3['LoanID'].isin(InsClaimloan1['LoanID'])]"
   ]
  },
  {
   "cell_type": "code",
   "execution_count": 106,
   "metadata": {},
   "outputs": [
    {
     "data": {
      "text/plain": [
       "'C:\\\\Users\\\\vergist\\\\Downloads\\\\Int Adjust\\\\201906\\\\MZ\\\\insclaim.csv'"
      ]
     },
     "execution_count": 106,
     "metadata": {},
     "output_type": "execute_result"
    }
   ],
   "source": [
    "filename=\"\".join(fileloc)\n",
    "filename=filename+\"\".join('\\\\')+\"\".join('insclaim.csv')\n",
    "filename"
   ]
  },
  {
   "cell_type": "code",
   "execution_count": 107,
   "metadata": {},
   "outputs": [],
   "source": [
    "df_tomfileinsclaim.to_csv(filename,columns=['LoanID','VarianceToInterest_Capped'],header=False,index=False)"
   ]
  },
  {
   "cell_type": "markdown",
   "metadata": {},
   "source": [
    "## Remove Replacement Loans"
   ]
  },
  {
   "cell_type": "raw",
   "metadata": {},
   "source": [
    "filename=\"\".join(fileloc)\n",
    "filename=filename+\"\".join('\\\\')+\"\".join(Replacementfile)\n",
    "filename"
   ]
  },
  {
   "cell_type": "code",
   "execution_count": 117,
   "metadata": {},
   "outputs": [],
   "source": [
    "Replaceloan=pd.read_csv(filename,usecols=[\"SettledLoanIDs\"],skiprows=replacementheader[0])"
   ]
  },
  {
   "cell_type": "code",
   "execution_count": 118,
   "metadata": {},
   "outputs": [],
   "source": [
    "Replaceloan=Replaceloan.SettledLoanIDs.str.replace(\"\\'\",\"\")"
   ]
  },
  {
   "cell_type": "code",
   "execution_count": 119,
   "metadata": {},
   "outputs": [],
   "source": [
    "Replaceloan=Replaceloan.str.replace(\"-\",\"\")"
   ]
  },
  {
   "cell_type": "code",
   "execution_count": 120,
   "metadata": {},
   "outputs": [],
   "source": [
    "Replaceloan=Replaceloan.str.replace(\" \",\"\")"
   ]
  },
  {
   "cell_type": "code",
   "execution_count": 121,
   "metadata": {},
   "outputs": [],
   "source": [
    "Replaceloan=Replaceloan.dropna()"
   ]
  },
  {
   "cell_type": "code",
   "execution_count": 122,
   "metadata": {},
   "outputs": [],
   "source": [
    "Replaceloan=Replaceloan.str.strip()"
   ]
  },
  {
   "cell_type": "code",
   "execution_count": 123,
   "metadata": {},
   "outputs": [],
   "source": [
    "Replaceloan1=Replaceloan[Replaceloan.apply(len)<=14]"
   ]
  },
  {
   "cell_type": "code",
   "execution_count": 124,
   "metadata": {},
   "outputs": [],
   "source": [
    "df_tomfile5=df_tomfile4[~df_tomfile4['LoanID'].isin(Replaceloan1)]"
   ]
  },
  {
   "cell_type": "code",
   "execution_count": 125,
   "metadata": {},
   "outputs": [
    {
     "data": {
      "text/plain": [
       "'C:\\\\Users\\\\vergist\\\\Downloads\\\\Int Adjust\\\\201906\\\\MZ\\\\AfterDroppingReplacements.csv'"
      ]
     },
     "execution_count": 125,
     "metadata": {},
     "output_type": "execute_result"
    }
   ],
   "source": [
    "filename=\"\".join(fileloc)\n",
    "filename=filename+\"\".join('\\\\')+\"\".join('AfterDroppingReplacements.csv')\n",
    "filename"
   ]
  },
  {
   "cell_type": "code",
   "execution_count": 128,
   "metadata": {},
   "outputs": [
    {
     "name": "stdout",
     "output_type": "stream",
     "text": [
      "After dropping replacement loans  LoanID                       85133\n",
      "DebtorCode                   85133\n",
      "VarianceToInterest_Capped    85133\n",
      "dtype: int64\n"
     ]
    }
   ],
   "source": [
    "print(\"After dropping replacement loans \",df_tomfile5.count())\n",
    "df_tomfile5.to_csv(filename,columns=['LoanID','VarianceToInterest_Capped'],header=False,index=False)\n",
    "#df_tomfile4.info()"
   ]
  },
  {
   "cell_type": "code",
   "execution_count": 129,
   "metadata": {},
   "outputs": [],
   "source": [
    "replacedloans=df_tomfile4[df_tomfile4['LoanID'].isin(Replaceloan1)]"
   ]
  },
  {
   "cell_type": "code",
   "execution_count": 130,
   "metadata": {},
   "outputs": [
    {
     "data": {
      "text/plain": [
       "'C:\\\\Users\\\\vergist\\\\Downloads\\\\Int Adjust\\\\201906\\\\MZ\\\\replacedloans.csv'"
      ]
     },
     "execution_count": 130,
     "metadata": {},
     "output_type": "execute_result"
    }
   ],
   "source": [
    "filename=\"\".join(fileloc)\n",
    "filename=filename+\"\".join('\\\\')+\"\".join('replacedloans.csv')\n",
    "filename"
   ]
  },
  {
   "cell_type": "code",
   "execution_count": 131,
   "metadata": {},
   "outputs": [],
   "source": [
    "replacedloans.to_csv(filename,columns=['LoanID','VarianceToInterest_Capped'],header=False,index=False)"
   ]
  },
  {
   "cell_type": "markdown",
   "metadata": {},
   "source": [
    "## Remove Excluded loans"
   ]
  },
  {
   "cell_type": "code",
   "execution_count": 133,
   "metadata": {},
   "outputs": [
    {
     "data": {
      "text/plain": [
       "'C:\\\\Users\\\\vergist\\\\Downloads\\\\Int Adjust\\\\201906\\\\MZ\\\\Consolidated_Daily_Loan_Status_Report-2000000006667-1-of-1.csv'"
      ]
     },
     "execution_count": 133,
     "metadata": {},
     "output_type": "execute_result"
    }
   ],
   "source": [
    "filename=\"\".join(fileloc)\n",
    "filename=filename+\"\".join('\\\\')+\"\".join(Exclusionfile)\n",
    "filename"
   ]
  },
  {
   "cell_type": "code",
   "execution_count": 134,
   "metadata": {},
   "outputs": [],
   "source": [
    "#BFS has 14 in header\n",
    "Excludedloan=pd.read_csv(filename,usecols=[\"ClientID\"],skiprows=exclusionheader[0])"
   ]
  },
  {
   "cell_type": "code",
   "execution_count": 135,
   "metadata": {},
   "outputs": [
    {
     "name": "stdout",
     "output_type": "stream",
     "text": [
      "<class 'pandas.core.frame.DataFrame'>\n",
      "RangeIndex: 4244 entries, 0 to 4243\n",
      "Data columns (total 1 columns):\n",
      "ClientID    4240 non-null object\n",
      "dtypes: object(1)\n",
      "memory usage: 33.2+ KB\n"
     ]
    }
   ],
   "source": [
    "Excludedloan.info()"
   ]
  },
  {
   "cell_type": "code",
   "execution_count": 136,
   "metadata": {},
   "outputs": [],
   "source": [
    "Excludedloan=Excludedloan.ClientID.str.replace(\"\\'\",\"\")"
   ]
  },
  {
   "cell_type": "code",
   "execution_count": 137,
   "metadata": {},
   "outputs": [],
   "source": [
    "Excludedloan1=pd.DataFrame(Excludedloan)"
   ]
  },
  {
   "cell_type": "code",
   "execution_count": 140,
   "metadata": {},
   "outputs": [
    {
     "data": {
      "text/plain": [
       "ClientID    4240\n",
       "dtype: int64"
      ]
     },
     "execution_count": 140,
     "metadata": {},
     "output_type": "execute_result"
    }
   ],
   "source": [
    "Excludedloan1.count()"
   ]
  },
  {
   "cell_type": "code",
   "execution_count": 141,
   "metadata": {},
   "outputs": [],
   "source": [
    "Excludedloan1=Excludedloan1.dropna()"
   ]
  },
  {
   "cell_type": "code",
   "execution_count": 142,
   "metadata": {},
   "outputs": [
    {
     "data": {
      "text/plain": [
       "ClientID    4240\n",
       "dtype: int64"
      ]
     },
     "execution_count": 142,
     "metadata": {},
     "output_type": "execute_result"
    }
   ],
   "source": [
    "Excludedloan1.count()"
   ]
  },
  {
   "cell_type": "code",
   "execution_count": 145,
   "metadata": {},
   "outputs": [],
   "source": [
    "df_tomfile6=df_tomfile5[~df_tomfile5['DebtorCode'].isin(Excludedloan1['ClientID'])]"
   ]
  },
  {
   "cell_type": "code",
   "execution_count": 146,
   "metadata": {},
   "outputs": [
    {
     "data": {
      "text/plain": [
       "'C:\\\\Users\\\\vergist\\\\Downloads\\\\Int Adjust\\\\201906\\\\MZ\\\\AfterDroppingExclusions.csv'"
      ]
     },
     "execution_count": 146,
     "metadata": {},
     "output_type": "execute_result"
    }
   ],
   "source": [
    "filename=\"\".join(fileloc)\n",
    "filename=filename+\"\".join('\\\\')+\"\".join('AfterDroppingExclusions.csv')\n",
    "filename"
   ]
  },
  {
   "cell_type": "code",
   "execution_count": 148,
   "metadata": {},
   "outputs": [
    {
     "name": "stdout",
     "output_type": "stream",
     "text": [
      "<class 'pandas.core.frame.DataFrame'>\n",
      "Int64Index: 84630 entries, 0 to 86430\n",
      "Data columns (total 3 columns):\n",
      "LoanID                       84630 non-null int64\n",
      "DebtorCode                   84630 non-null int64\n",
      "VarianceToInterest_Capped    84630 non-null float64\n",
      "dtypes: float64(1), int64(2)\n",
      "memory usage: 2.6 MB\n",
      "Loan records now None\n"
     ]
    }
   ],
   "source": [
    "print(\"Loan records now\",df_tomfile6.info())\n",
    "df_tomfile6.to_csv(filename,columns=['LoanID','VarianceToInterest_Capped'],header=False,index=False)"
   ]
  },
  {
   "cell_type": "code",
   "execution_count": 149,
   "metadata": {},
   "outputs": [],
   "source": [
    "excluded=df_tomfile5[df_tomfile5['DebtorCode'].isin(Excludedloan1['ClientID'])]"
   ]
  },
  {
   "cell_type": "code",
   "execution_count": 150,
   "metadata": {},
   "outputs": [
    {
     "data": {
      "text/plain": [
       "'C:\\\\Users\\\\vergist\\\\Downloads\\\\Int Adjust\\\\201906\\\\MZ\\\\excluded.csv'"
      ]
     },
     "execution_count": 150,
     "metadata": {},
     "output_type": "execute_result"
    }
   ],
   "source": [
    "filename=\"\".join(fileloc)\n",
    "filename=filename+\"\".join('\\\\')+\"\".join('excluded.csv')\n",
    "filename"
   ]
  },
  {
   "cell_type": "code",
   "execution_count": 151,
   "metadata": {},
   "outputs": [],
   "source": [
    "excluded.to_csv(filename,columns=['LoanID','VarianceToInterest_Capped'],header=False,index=False)"
   ]
  },
  {
   "cell_type": "markdown",
   "metadata": {},
   "source": [
    "# Generate FULL file"
   ]
  },
  {
   "cell_type": "code",
   "execution_count": 155,
   "metadata": {},
   "outputs": [
    {
     "data": {
      "text/plain": [
       "'C:\\\\Users\\\\vergist\\\\Downloads\\\\Int Adjust\\\\201906\\\\MZ\\\\201906_MZ_Adjustment File Full.csv'"
      ]
     },
     "execution_count": 155,
     "metadata": {},
     "output_type": "execute_result"
    }
   ],
   "source": [
    "filename=\"\".join(fileloc)\n",
    "filename=filename+\"\".join('\\\\')+\"\".join(period+\"_\"+sheetname+'_Adjustment File Full.csv')\n",
    "filename\n",
    "#201904_MZ_Adjustment File Full.csv"
   ]
  },
  {
   "cell_type": "code",
   "execution_count": 156,
   "metadata": {},
   "outputs": [],
   "source": [
    "df_tomfile6.to_csv(filename,columns=['LoanID','VarianceToInterest_Capped'],header=False,index=False)\n"
   ]
  },
  {
   "cell_type": "code",
   "execution_count": 157,
   "metadata": {},
   "outputs": [],
   "source": [
    "sumvalue=sum(df_tomfile6['VarianceToInterest_Capped'])"
   ]
  },
  {
   "cell_type": "markdown",
   "metadata": {},
   "source": [
    "## Generate 500 sample file"
   ]
  },
  {
   "cell_type": "code",
   "execution_count": 158,
   "metadata": {},
   "outputs": [
    {
     "data": {
      "text/plain": [
       "'C:\\\\Users\\\\vergist\\\\Downloads\\\\Int Adjust\\\\201906\\\\MZ\\\\201906_MZ_Adjustment File UAT 500 Loan Sample.csv'"
      ]
     },
     "execution_count": 158,
     "metadata": {},
     "output_type": "execute_result"
    }
   ],
   "source": [
    "filename=\"\".join(fileloc)\n",
    "filename=filename+\"\".join('\\\\')+\"\".join(period+\"_\"+sheetname+'_Adjustment File UAT 500 Loan Sample.csv')\n",
    "filename"
   ]
  },
  {
   "cell_type": "code",
   "execution_count": 159,
   "metadata": {},
   "outputs": [],
   "source": [
    "df_tomfile6.head(500).to_csv(filename,columns=['LoanID','VarianceToInterest_Capped'],header=False,index=False)"
   ]
  },
  {
   "cell_type": "code",
   "execution_count": 160,
   "metadata": {},
   "outputs": [
    {
     "name": "stdout",
     "output_type": "stream",
     "text": [
      "Final records after all exclusions LoanID                       84630\n",
      "DebtorCode                   84630\n",
      "VarianceToInterest_Capped    84630\n",
      "dtype: int64\n"
     ]
    }
   ],
   "source": [
    "print (\"Final records after all exclusions\",df_tomfile6.count())"
   ]
  },
  {
   "cell_type": "code",
   "execution_count": 161,
   "metadata": {},
   "outputs": [],
   "source": [
    "#Summary\n",
    "\n",
    "DictOutput={\"Initial records\":len(df_tomfile1),\"After Dropping zeroes\":len(df_tomfile2),\"After Dropping settled loans\":len(df_tomfile3),\"After Dropping Insurance claim\":len(df_tomfile4),\"After Dropping Replacements\":len(df_tomfile5),\"After Dropping Exclusions\":len(df_tomfile6),\"Total sum value\":sumvalue}\n"
   ]
  },
  {
   "cell_type": "code",
   "execution_count": 162,
   "metadata": {},
   "outputs": [],
   "source": [
    "DictOutputAuditDrops={\"zero value records\":len(df_tomfilezero),\"Settled\":len(df_tomfilesettled),\"Insurance\":len(df_tomfileinsclaim),\"Replaced\":len(replacedloans),\"Exclusions\":len(excluded),\"Total Excluded\":len(df_tomfilezero)+len(df_tomfilesettled)+len(df_tomfileinsclaim)+len(replacedloans)+len(excluded)}\n"
   ]
  },
  {
   "cell_type": "code",
   "execution_count": 163,
   "metadata": {},
   "outputs": [
    {
     "data": {
      "text/plain": [
       "'C:\\\\Users\\\\vergist\\\\Downloads\\\\Int Adjust\\\\201906\\\\MZ\\\\Output.csv'"
      ]
     },
     "execution_count": 163,
     "metadata": {},
     "output_type": "execute_result"
    }
   ],
   "source": [
    "filename=\"\".join(fileloc)\n",
    "filename=filename+\"\".join('\\\\')+\"\".join('Output.csv')\n",
    "filename"
   ]
  },
  {
   "cell_type": "code",
   "execution_count": 164,
   "metadata": {},
   "outputs": [],
   "source": [
    "import csv\n",
    "\n",
    "\n",
    "with open(filename, 'w') as f:\n",
    "    for key in DictOutput.keys():\n",
    "        f.write(\"%s,%s\\n\"%(key,DictOutput[key]))"
   ]
  },
  {
   "cell_type": "code",
   "execution_count": 165,
   "metadata": {},
   "outputs": [
    {
     "data": {
      "text/plain": [
       "'C:\\\\Users\\\\vergist\\\\Downloads\\\\Int Adjust\\\\201906\\\\MZ\\\\OutputDrops.csv'"
      ]
     },
     "execution_count": 165,
     "metadata": {},
     "output_type": "execute_result"
    }
   ],
   "source": [
    "filename=\"\".join(fileloc)\n",
    "filename=filename+\"\".join('\\\\')+\"\".join('OutputDrops.csv')\n",
    "filename"
   ]
  },
  {
   "cell_type": "code",
   "execution_count": 166,
   "metadata": {},
   "outputs": [],
   "source": [
    "with open(filename, 'w') as f:\n",
    "    for key in DictOutputAuditDrops.keys():\n",
    "        f.write(\"%s,%s\\n\"%(key,DictOutputAuditDrops[key]))"
   ]
  },
  {
   "cell_type": "code",
   "execution_count": null,
   "metadata": {},
   "outputs": [],
   "source": [
    "#End of Program"
   ]
  },
  {
   "cell_type": "code",
   "execution_count": null,
   "metadata": {},
   "outputs": [],
   "source": []
  }
 ],
 "metadata": {
  "kernelspec": {
   "display_name": "Python 3",
   "language": "python",
   "name": "python3"
  },
  "language_info": {
   "codemirror_mode": {
    "name": "ipython",
    "version": 3
   },
   "file_extension": ".py",
   "mimetype": "text/x-python",
   "name": "python",
   "nbconvert_exporter": "python",
   "pygments_lexer": "ipython3",
   "version": "3.7.1"
  }
 },
 "nbformat": 4,
 "nbformat_minor": 2
}
