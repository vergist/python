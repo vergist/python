{
 "cells": [
  {
   "cell_type": "markdown",
   "metadata": {},
   "source": [
    "# Interest Adjustment Program \n",
    "## Baselined 21-June-2019\n",
    "\n",
    "# Read Excel with Source Data"
   ]
  },
  {
   "cell_type": "code",
   "execution_count": 114,
   "metadata": {},
   "outputs": [
    {
     "name": "stdout",
     "output_type": "stream",
     "text": [
      "Enter file name of the param file: C:\\Users\\vergist\\Downloads\\Int Adjust\\201906\\TZ\\201906 paramTZ.xlsx\n",
      "C:\\Users\\vergist\\Downloads\\Int Adjust\\201906\\TZ\\201906 paramTZ.xlsx\n",
      "C:\\Users\\vergist\\Downloads\\Int Adjust\\201906\\TZ\\201906 paramTZ.xlsx\n"
     ]
    }
   ],
   "source": [
    "#Please copy blank exclusion files if the country does not have any data for a type of exclusion namely settlement, refinance, insurance, exclusion\n",
    "#for TZ please rename the Interestcappedcheck to VarianceToInterest_Capped in the source file\n",
    "#vergist@bayportfinance.com\n",
    "import pandas as pd\n",
    "import sys as sys\n",
    "\n",
    "paramfileloc = input(\"Enter file name of the param file: \") \n",
    "print(paramfileloc) \n",
    "#paramfileloc=r\"C:\\Users\\vergist\\Downloads\\Int Adjust\\201904\\May 2019\\MZ\\201904 param.xlsx\"\n",
    "#params=pd.read_excel (io=paramfileloc,sheet_name=\"Sheet1\")\n",
    "paramfileloc=\"\".join(paramfileloc)\n",
    "print(paramfileloc) "
   ]
  },
  {
   "cell_type": "code",
   "execution_count": 115,
   "metadata": {},
   "outputs": [],
   "source": [
    "params=pd.read_excel (io=paramfileloc,sheet_name=\"Sheet1\")"
   ]
  },
  {
   "cell_type": "code",
   "execution_count": 116,
   "metadata": {},
   "outputs": [
    {
     "data": {
      "text/html": [
       "<div>\n",
       "<style scoped>\n",
       "    .dataframe tbody tr th:only-of-type {\n",
       "        vertical-align: middle;\n",
       "    }\n",
       "\n",
       "    .dataframe tbody tr th {\n",
       "        vertical-align: top;\n",
       "    }\n",
       "\n",
       "    .dataframe thead th {\n",
       "        text-align: right;\n",
       "    }\n",
       "</style>\n",
       "<table border=\"1\" class=\"dataframe\">\n",
       "  <thead>\n",
       "    <tr style=\"text-align: right;\">\n",
       "      <th></th>\n",
       "      <th>Period</th>\n",
       "      <th>tomfolder</th>\n",
       "      <th>tomfile</th>\n",
       "      <th>sheetname</th>\n",
       "      <th>fileloc</th>\n",
       "      <th>settlefile</th>\n",
       "      <th>insfile</th>\n",
       "      <th>Replacementfile</th>\n",
       "      <th>Exclusionfile</th>\n",
       "    </tr>\n",
       "  </thead>\n",
       "  <tbody>\n",
       "    <tr>\n",
       "      <th>0</th>\n",
       "      <td>201906</td>\n",
       "      <td>C:\\Users\\vergist\\Downloads\\Int Adjust\\201906\\TZ</td>\n",
       "      <td>201906 TZ Int Adjust.xlsx</td>\n",
       "      <td>TZ</td>\n",
       "      <td>C:\\Users\\vergist\\Downloads\\Int Adjust\\201906\\TZ</td>\n",
       "      <td>Outright_Settlements-13600000028443-1-of-1.csv</td>\n",
       "      <td>Insurance_Claims.csv</td>\n",
       "      <td>Replacement_Settlement.csv</td>\n",
       "      <td>Consolidated_Daily_Loan_Status_Report.csv</td>\n",
       "    </tr>\n",
       "  </tbody>\n",
       "</table>\n",
       "</div>"
      ],
      "text/plain": [
       "   Period                                        tomfolder  \\\n",
       "0  201906  C:\\Users\\vergist\\Downloads\\Int Adjust\\201906\\TZ   \n",
       "\n",
       "                     tomfile sheetname  \\\n",
       "0  201906 TZ Int Adjust.xlsx        TZ   \n",
       "\n",
       "                                           fileloc  \\\n",
       "0  C:\\Users\\vergist\\Downloads\\Int Adjust\\201906\\TZ   \n",
       "\n",
       "                                       settlefile               insfile  \\\n",
       "0  Outright_Settlements-13600000028443-1-of-1.csv  Insurance_Claims.csv   \n",
       "\n",
       "              Replacementfile                              Exclusionfile  \n",
       "0  Replacement_Settlement.csv  Consolidated_Daily_Loan_Status_Report.csv  "
      ]
     },
     "execution_count": 116,
     "metadata": {},
     "output_type": "execute_result"
    }
   ],
   "source": [
    "params"
   ]
  },
  {
   "cell_type": "code",
   "execution_count": 117,
   "metadata": {},
   "outputs": [
    {
     "name": "stdout",
     "output_type": "stream",
     "text": [
      "0    C:\\Users\\vergist\\Downloads\\Int Adjust\\201906\\TZ\n",
      "Name: tomfolder, dtype: object\n"
     ]
    }
   ],
   "source": [
    "tomfolder=params['tomfolder'].astype(str)\n",
    "#tomfolder=tomfolder.astype(str)\n",
    "pd.set_option('max_colwidth', 8000)\n",
    "print (tomfolder)"
   ]
  },
  {
   "cell_type": "code",
   "execution_count": 118,
   "metadata": {},
   "outputs": [
    {
     "data": {
      "text/plain": [
       "0    201906\n",
       "Name: Period, dtype: object"
      ]
     },
     "execution_count": 118,
     "metadata": {},
     "output_type": "execute_result"
    }
   ],
   "source": [
    "period=params['Period'].astype(str)\n",
    "#tomfile=tomfolder.astype(str)\n",
    "period"
   ]
  },
  {
   "cell_type": "code",
   "execution_count": 119,
   "metadata": {},
   "outputs": [
    {
     "data": {
      "text/plain": [
       "0    201906 TZ Int Adjust.xlsx\n",
       "Name: tomfile, dtype: object"
      ]
     },
     "execution_count": 119,
     "metadata": {},
     "output_type": "execute_result"
    }
   ],
   "source": [
    "tomfile=params['tomfile'].astype(str)\n",
    "#tomfile=tomfolder.astype(str)\n",
    "tomfile\n"
   ]
  },
  {
   "cell_type": "code",
   "execution_count": 120,
   "metadata": {},
   "outputs": [
    {
     "name": "stdout",
     "output_type": "stream",
     "text": [
      "sheetname  TZ\n"
     ]
    }
   ],
   "source": [
    "sheetname=params['sheetname'].astype(str)\n",
    "\n",
    "sheetname=\"\".join(sheetname)\n",
    "print('sheetname  ' +sheetname)"
   ]
  },
  {
   "cell_type": "code",
   "execution_count": 121,
   "metadata": {},
   "outputs": [],
   "source": [
    "fileloc=params['fileloc']"
   ]
  },
  {
   "cell_type": "code",
   "execution_count": 123,
   "metadata": {},
   "outputs": [],
   "source": [
    "settlefile=params['settlefile']"
   ]
  },
  {
   "cell_type": "code",
   "execution_count": 124,
   "metadata": {},
   "outputs": [],
   "source": [
    "insfile=params['insfile']"
   ]
  },
  {
   "cell_type": "code",
   "execution_count": 125,
   "metadata": {},
   "outputs": [],
   "source": [
    "Replacementfile=params['Replacementfile']"
   ]
  },
  {
   "cell_type": "code",
   "execution_count": 126,
   "metadata": {},
   "outputs": [],
   "source": [
    "Exclusionfile=params['Exclusionfile']"
   ]
  },
  {
   "cell_type": "code",
   "execution_count": 127,
   "metadata": {},
   "outputs": [
    {
     "data": {
      "text/plain": [
       "'C:\\\\Users\\\\vergist\\\\Downloads\\\\Int Adjust\\\\201906\\\\TZ\\\\201906 TZ Int Adjust.xlsx'"
      ]
     },
     "execution_count": 127,
     "metadata": {},
     "output_type": "execute_result"
    }
   ],
   "source": [
    "#fileloc=\"C:\\\\Users\\\\vergist\\\\Downloads\\\\Int Adjust\\\\201904\\\\May 2019\\\\BFS\\\\\"\n",
    "#tomfolder=\"C:\\\\Users\\\\vergist\\\\Downloads\\\\Int Adjust\\\\201904\\\\\"\n",
    "#tomfile=\"BFS.xlsx\"\n",
    "#sheetname=[\"GH_BFS\"]\n",
    "readtomfile=\"\".join(tomfolder)\n",
    "readtomfile=readtomfile+\"\\\\\"+readtomfile.join(tomfile)\n",
    "#readtomfile=tomfolder+tomfile\n",
    "#print (readtomfile)\n",
    "#print (readtomfile,sheetname)\n",
    "readtomfile"
   ]
  },
  {
   "cell_type": "code",
   "execution_count": 128,
   "metadata": {},
   "outputs": [
    {
     "name": "stdout",
     "output_type": "stream",
     "text": [
      "Reading Finance file now....\n",
      "Finished Reading Finance file \n"
     ]
    }
   ],
   "source": [
    "import datetime\n",
    "print ('Reading Finance file now....')\n",
    "d1=datetime.datetime.now()\n",
    "df_tomfile=pd.read_excel (io=readtomfile,sheet_name=sheetname)\n",
    "d2=datetime.datetime.now()\n",
    "print ('Finished Reading Finance file ')"
   ]
  },
  {
   "cell_type": "code",
   "execution_count": 129,
   "metadata": {},
   "outputs": [
    {
     "name": "stdout",
     "output_type": "stream",
     "text": [
      "Time taken to read file 0:02:47.864898\n"
     ]
    }
   ],
   "source": [
    "print ('Time taken to read file' ,d2-d1)"
   ]
  },
  {
   "cell_type": "code",
   "execution_count": 130,
   "metadata": {},
   "outputs": [],
   "source": [
    "#This needs to be changed for TZ to use InterestCappedCheck\n",
    "df_tomfile1=df_tomfile[[\"LoanID\",\"DebtorCode\",\"VarianceToInterest_Capped\"]]"
   ]
  },
  {
   "cell_type": "code",
   "execution_count": 131,
   "metadata": {},
   "outputs": [
    {
     "name": "stdout",
     "output_type": "stream",
     "text": [
      "<class 'pandas.core.frame.DataFrame'>\n",
      "RangeIndex: 51523 entries, 0 to 51522\n",
      "Data columns (total 3 columns):\n",
      "LoanID                       51523 non-null int64\n",
      "DebtorCode                   51523 non-null int64\n",
      "VarianceToInterest_Capped    51523 non-null float64\n",
      "dtypes: float64(1), int64(2)\n",
      "memory usage: 1.2 MB\n"
     ]
    }
   ],
   "source": [
    "df_tomfile1.info()"
   ]
  },
  {
   "cell_type": "markdown",
   "metadata": {},
   "source": [
    "## Drop zero value records"
   ]
  },
  {
   "cell_type": "code",
   "execution_count": 132,
   "metadata": {},
   "outputs": [],
   "source": [
    "df_tomfile2=df_tomfile1[df_tomfile1[\"VarianceToInterest_Capped\"]!=0.00]"
   ]
  },
  {
   "cell_type": "code",
   "execution_count": 133,
   "metadata": {},
   "outputs": [],
   "source": [
    "df_tomfilezero=df_tomfile1[df_tomfile1[\"VarianceToInterest_Capped\"]==0.00]"
   ]
  },
  {
   "cell_type": "code",
   "execution_count": 134,
   "metadata": {},
   "outputs": [
    {
     "data": {
      "text/plain": [
       "'C:\\\\Users\\\\vergist\\\\Downloads\\\\Int Adjust\\\\201906\\\\TZ\\\\AfterDroppingzeroint.csv'"
      ]
     },
     "execution_count": 134,
     "metadata": {},
     "output_type": "execute_result"
    }
   ],
   "source": [
    "filename=\"\".join(fileloc)\n",
    "filename=filename+\"\".join('\\\\')+\"\".join('AfterDroppingzeroint.csv')\n",
    "filename"
   ]
  },
  {
   "cell_type": "code",
   "execution_count": 135,
   "metadata": {},
   "outputs": [
    {
     "name": "stdout",
     "output_type": "stream",
     "text": [
      "<class 'pandas.core.frame.DataFrame'>\n",
      "Int64Index: 49967 entries, 0 to 51522\n",
      "Data columns (total 3 columns):\n",
      "LoanID                       49967 non-null int64\n",
      "DebtorCode                   49967 non-null int64\n",
      "VarianceToInterest_Capped    49967 non-null float64\n",
      "dtypes: float64(1), int64(2)\n",
      "memory usage: 1.5 MB\n"
     ]
    }
   ],
   "source": [
    "df_tomfile2.info()\n",
    "#below works\n",
    "#df_tomfile2.to_csv(r'C:\\Users\\vergist\\Downloads\\Int Adjust\\201904\\May 2019\\BFS\\AfterDroppingzeroint.csv',columns=['LoanID','VarianceToInterest_Capped'],header=False,index=False)\n",
    "#After dropping zeroes\n",
    "df_tomfile2.to_csv(filename,columns=['LoanID','VarianceToInterest_Capped'],header=False,index=False)\n"
   ]
  },
  {
   "cell_type": "code",
   "execution_count": 136,
   "metadata": {},
   "outputs": [
    {
     "data": {
      "text/plain": [
       "'C:\\\\Users\\\\vergist\\\\Downloads\\\\Int Adjust\\\\201906\\\\TZ\\\\zeroamounts.csv'"
      ]
     },
     "execution_count": 136,
     "metadata": {},
     "output_type": "execute_result"
    }
   ],
   "source": [
    "filename=\"\".join(fileloc)\n",
    "filename=filename+\"\".join('\\\\')+\"\".join('zeroamounts.csv')\n",
    "filename"
   ]
  },
  {
   "cell_type": "code",
   "execution_count": 137,
   "metadata": {},
   "outputs": [],
   "source": [
    "\n",
    "#df_tomfilezero.to_csv(r'C:\\Users\\vergist\\Downloads\\Int Adjust\\201904\\May 2019\\BFS\\zeroamounts.csv',columns=['LoanID','VarianceToInterest_Capped'],header=False,index=False)\n",
    "#zero value lines file\n",
    "df_tomfilezero.to_csv(filename,columns=['LoanID','VarianceToInterest_Capped'],header=False,index=False)"
   ]
  },
  {
   "cell_type": "code",
   "execution_count": 138,
   "metadata": {},
   "outputs": [
    {
     "data": {
      "text/plain": [
       "'C:\\\\Users\\\\vergist\\\\Downloads\\\\Int Adjust\\\\201906\\\\TZ\\\\Outright_Settlements-13600000028443-1-of-1.csv'"
      ]
     },
     "execution_count": 138,
     "metadata": {},
     "output_type": "execute_result"
    }
   ],
   "source": [
    "#fileloc+settlefile\n",
    "filename=\"\".join(fileloc)\n",
    "filename=filename+\"\".join('\\\\')+\"\".join(settlefile)\n",
    "filename\n"
   ]
  },
  {
   "cell_type": "code",
   "execution_count": null,
   "metadata": {},
   "outputs": [],
   "source": []
  },
  {
   "cell_type": "code",
   "execution_count": 139,
   "metadata": {},
   "outputs": [],
   "source": [
    "settledloan=pd.read_csv(filename,usecols=[\"ClientID\"])"
   ]
  },
  {
   "cell_type": "code",
   "execution_count": 140,
   "metadata": {},
   "outputs": [
    {
     "name": "stdout",
     "output_type": "stream",
     "text": [
      "Number of Settled records read ClientID    136\n",
      "dtype: int64\n"
     ]
    }
   ],
   "source": [
    "print ('Number of Settled records read',settledloan.count())"
   ]
  },
  {
   "cell_type": "code",
   "execution_count": 141,
   "metadata": {},
   "outputs": [],
   "source": [
    "settledloan1=settledloan.ClientID.str.replace(\"\\'\",\"\")\n"
   ]
  },
  {
   "cell_type": "code",
   "execution_count": 142,
   "metadata": {},
   "outputs": [],
   "source": [
    "#settledloan1=[settledloan1.rename(columns={'ClientID': 'DebtorCode'})]\n",
    "settledloan1=pd.DataFrame(settledloan1)"
   ]
  },
  {
   "cell_type": "code",
   "execution_count": 143,
   "metadata": {},
   "outputs": [
    {
     "name": "stdout",
     "output_type": "stream",
     "text": [
      "<class 'pandas.core.frame.DataFrame'>\n",
      "RangeIndex: 136 entries, 0 to 135\n",
      "Data columns (total 1 columns):\n",
      "DebtorCode    136 non-null object\n",
      "dtypes: object(1)\n",
      "memory usage: 1.1+ KB\n"
     ]
    }
   ],
   "source": [
    "settledloan1.columns=['DebtorCode']\n",
    "settledloan1.info()"
   ]
  },
  {
   "cell_type": "code",
   "execution_count": 144,
   "metadata": {},
   "outputs": [
    {
     "name": "stdout",
     "output_type": "stream",
     "text": [
      "<class 'pandas.core.frame.DataFrame'>\n",
      "Int64Index: 49967 entries, 0 to 51522\n",
      "Data columns (total 3 columns):\n",
      "LoanID                       49967 non-null int64\n",
      "DebtorCode                   49967 non-null int64\n",
      "VarianceToInterest_Capped    49967 non-null float64\n",
      "dtypes: float64(1), int64(2)\n",
      "memory usage: 1.5 MB\n"
     ]
    }
   ],
   "source": [
    "#df_tomfile3 = pd.merge(df_tomfile2, settledloan3, on='DebtorCode',how='outer')\n",
    "df_tomfile2.info()"
   ]
  },
  {
   "cell_type": "code",
   "execution_count": 145,
   "metadata": {},
   "outputs": [
    {
     "name": "stdout",
     "output_type": "stream",
     "text": [
      "<class 'pandas.core.frame.DataFrame'>\n",
      "RangeIndex: 136 entries, 0 to 135\n",
      "Data columns (total 1 columns):\n",
      "DebtorCode    136 non-null int64\n",
      "dtypes: int64(1)\n",
      "memory usage: 1.1 KB\n"
     ]
    }
   ],
   "source": [
    "settledloan1['DebtorCode']=settledloan1['DebtorCode'].astype('int64')\n",
    "settledloan1.info()"
   ]
  },
  {
   "cell_type": "markdown",
   "metadata": {},
   "source": [
    "## Remove Settled Loans"
   ]
  },
  {
   "cell_type": "code",
   "execution_count": 146,
   "metadata": {},
   "outputs": [],
   "source": [
    "df_tomfile3=df_tomfile2[~df_tomfile2['DebtorCode'].isin(settledloan1['DebtorCode'])]"
   ]
  },
  {
   "cell_type": "code",
   "execution_count": 147,
   "metadata": {},
   "outputs": [
    {
     "data": {
      "text/plain": [
       "'C:\\\\Users\\\\vergist\\\\Downloads\\\\Int Adjust\\\\201906\\\\TZ\\\\AfterDroppingSettledLoan.csv'"
      ]
     },
     "execution_count": 147,
     "metadata": {},
     "output_type": "execute_result"
    }
   ],
   "source": [
    "filename=\"\"\n",
    "filename=\"\".join(fileloc)\n",
    "filename=filename+\"\".join('\\\\')+\"\".join('AfterDroppingSettledLoan.csv')\n",
    "filename"
   ]
  },
  {
   "cell_type": "code",
   "execution_count": 148,
   "metadata": {},
   "outputs": [],
   "source": [
    "df_tomfile3.count()\n",
    "df_tomfile3.to_csv(filename,columns=['LoanID','VarianceToInterest_Capped'],header=False,index=False)"
   ]
  },
  {
   "cell_type": "code",
   "execution_count": 149,
   "metadata": {},
   "outputs": [],
   "source": [
    "df_tomfilesettled=df_tomfile2[df_tomfile2['DebtorCode'].isin(settledloan1['DebtorCode'])]"
   ]
  },
  {
   "cell_type": "code",
   "execution_count": 150,
   "metadata": {},
   "outputs": [
    {
     "data": {
      "text/plain": [
       "'C:\\\\Users\\\\vergist\\\\Downloads\\\\Int Adjust\\\\201906\\\\TZ\\\\settledrecords.csv'"
      ]
     },
     "execution_count": 150,
     "metadata": {},
     "output_type": "execute_result"
    }
   ],
   "source": [
    "filename=\"\".join(fileloc)\n",
    "filename=filename+\"\".join('\\\\')+\"\".join('settledrecords.csv')\n",
    "filename"
   ]
  },
  {
   "cell_type": "code",
   "execution_count": 151,
   "metadata": {},
   "outputs": [],
   "source": [
    "df_tomfilesettled.to_csv(filename,columns=['LoanID','VarianceToInterest_Capped'],header=False,index=False)"
   ]
  },
  {
   "cell_type": "markdown",
   "metadata": {},
   "source": [
    "## Remove Insurance Claims"
   ]
  },
  {
   "cell_type": "code",
   "execution_count": 152,
   "metadata": {},
   "outputs": [
    {
     "data": {
      "text/plain": [
       "'C:\\\\Users\\\\vergist\\\\Downloads\\\\Int Adjust\\\\201906\\\\TZ\\\\Insurance_Claims.csv'"
      ]
     },
     "execution_count": 152,
     "metadata": {},
     "output_type": "execute_result"
    }
   ],
   "source": [
    "filename=\"\".join(fileloc)\n",
    "filename=filename+\"\".join('\\\\')+\"\".join(insfile)\n",
    "filename"
   ]
  },
  {
   "cell_type": "code",
   "execution_count": 153,
   "metadata": {},
   "outputs": [],
   "source": [
    "#BFS has 11 rows before CSV\n",
    "InsClaimloan=pd.read_csv(filename,usecols=[\"LoanID\"])\n"
   ]
  },
  {
   "cell_type": "code",
   "execution_count": 154,
   "metadata": {},
   "outputs": [],
   "source": [
    "InsClaimloan1=InsClaimloan.LoanID.str.replace(\"\\'\",\"\")"
   ]
  },
  {
   "cell_type": "code",
   "execution_count": 155,
   "metadata": {},
   "outputs": [],
   "source": [
    "InsClaimloan1=pd.DataFrame(InsClaimloan1)"
   ]
  },
  {
   "cell_type": "code",
   "execution_count": 156,
   "metadata": {},
   "outputs": [],
   "source": [
    "df_tomfile4=df_tomfile3[~df_tomfile3['LoanID'].isin(InsClaimloan1['LoanID'])]"
   ]
  },
  {
   "cell_type": "code",
   "execution_count": 157,
   "metadata": {},
   "outputs": [
    {
     "data": {
      "text/plain": [
       "'C:\\\\Users\\\\vergist\\\\Downloads\\\\Int Adjust\\\\201906\\\\TZ\\\\AfterDroppingInsclaim.csv'"
      ]
     },
     "execution_count": 157,
     "metadata": {},
     "output_type": "execute_result"
    }
   ],
   "source": [
    "filename=\"\".join(fileloc)\n",
    "filename=filename+\"\".join('\\\\')+\"\".join('AfterDroppingInsclaim.csv')\n",
    "filename"
   ]
  },
  {
   "cell_type": "code",
   "execution_count": 158,
   "metadata": {},
   "outputs": [],
   "source": [
    "df_tomfile4.count()\n",
    "df_tomfile4.to_csv(filename,columns=['LoanID','VarianceToInterest_Capped'],header=False,index=False)"
   ]
  },
  {
   "cell_type": "code",
   "execution_count": 159,
   "metadata": {},
   "outputs": [],
   "source": [
    "df_tomfileinsclaim=df_tomfile3[df_tomfile3['LoanID'].isin(InsClaimloan1['LoanID'])]"
   ]
  },
  {
   "cell_type": "code",
   "execution_count": 160,
   "metadata": {},
   "outputs": [
    {
     "data": {
      "text/plain": [
       "'C:\\\\Users\\\\vergist\\\\Downloads\\\\Int Adjust\\\\201906\\\\TZ\\\\insclaim.csv'"
      ]
     },
     "execution_count": 160,
     "metadata": {},
     "output_type": "execute_result"
    }
   ],
   "source": [
    "filename=\"\".join(fileloc)\n",
    "filename=filename+\"\".join('\\\\')+\"\".join('insclaim.csv')\n",
    "filename"
   ]
  },
  {
   "cell_type": "code",
   "execution_count": 161,
   "metadata": {},
   "outputs": [],
   "source": [
    "df_tomfileinsclaim.to_csv(filename,columns=['LoanID','VarianceToInterest_Capped'],header=False,index=False)"
   ]
  },
  {
   "cell_type": "code",
   "execution_count": null,
   "metadata": {},
   "outputs": [],
   "source": []
  },
  {
   "cell_type": "markdown",
   "metadata": {},
   "source": [
    "## Remove Replacement Loans"
   ]
  },
  {
   "cell_type": "code",
   "execution_count": 162,
   "metadata": {},
   "outputs": [
    {
     "data": {
      "text/plain": [
       "'C:\\\\Users\\\\vergist\\\\Downloads\\\\Int Adjust\\\\201906\\\\TZ\\\\Replacement_Settlement.csv'"
      ]
     },
     "execution_count": 162,
     "metadata": {},
     "output_type": "execute_result"
    }
   ],
   "source": [
    "filename=\"\".join(fileloc)\n",
    "filename=filename+\"\".join('\\\\')+\"\".join(Replacementfile)\n",
    "filename"
   ]
  },
  {
   "cell_type": "code",
   "execution_count": 163,
   "metadata": {},
   "outputs": [],
   "source": [
    "Replaceloan=pd.read_csv(filename,usecols=[\"SettledLoanIDs\"])"
   ]
  },
  {
   "cell_type": "code",
   "execution_count": 164,
   "metadata": {},
   "outputs": [],
   "source": [
    "Replaceloan=Replaceloan.SettledLoanIDs.str.replace(\"\\'\",\"\")"
   ]
  },
  {
   "cell_type": "code",
   "execution_count": 165,
   "metadata": {},
   "outputs": [],
   "source": [
    "Replaceloan=Replaceloan.str.replace(\"-\",\"\")"
   ]
  },
  {
   "cell_type": "code",
   "execution_count": 166,
   "metadata": {},
   "outputs": [],
   "source": [
    "Replaceloan=Replaceloan.str.replace(\" \",\"\")"
   ]
  },
  {
   "cell_type": "code",
   "execution_count": 167,
   "metadata": {},
   "outputs": [],
   "source": [
    "Replaceloan=Replaceloan.str.strip()"
   ]
  },
  {
   "cell_type": "code",
   "execution_count": 168,
   "metadata": {},
   "outputs": [],
   "source": [
    "Replaceloan1=Replaceloan[Replaceloan.apply(len)<=14]"
   ]
  },
  {
   "cell_type": "code",
   "execution_count": 169,
   "metadata": {},
   "outputs": [],
   "source": [
    "df_tomfile5=df_tomfile4[~df_tomfile4['LoanID'].isin(Replaceloan1)]"
   ]
  },
  {
   "cell_type": "code",
   "execution_count": 170,
   "metadata": {},
   "outputs": [
    {
     "data": {
      "text/plain": [
       "'C:\\\\Users\\\\vergist\\\\Downloads\\\\Int Adjust\\\\201906\\\\TZ\\\\AfterDroppingReplacements.csv'"
      ]
     },
     "execution_count": 170,
     "metadata": {},
     "output_type": "execute_result"
    }
   ],
   "source": [
    "filename=\"\".join(fileloc)\n",
    "filename=filename+\"\".join('\\\\')+\"\".join('AfterDroppingReplacements.csv')\n",
    "filename"
   ]
  },
  {
   "cell_type": "code",
   "execution_count": 171,
   "metadata": {},
   "outputs": [
    {
     "name": "stdout",
     "output_type": "stream",
     "text": [
      "<class 'pandas.core.frame.DataFrame'>\n",
      "Int64Index: 49070 entries, 0 to 51522\n",
      "Data columns (total 3 columns):\n",
      "LoanID                       49070 non-null int64\n",
      "DebtorCode                   49070 non-null int64\n",
      "VarianceToInterest_Capped    49070 non-null float64\n",
      "dtypes: float64(1), int64(2)\n",
      "memory usage: 1.5 MB\n"
     ]
    }
   ],
   "source": [
    "df_tomfile5.info()\n",
    "df_tomfile5.to_csv(filename,columns=['LoanID','VarianceToInterest_Capped'],header=False,index=False)\n",
    "#df_tomfile4.info()"
   ]
  },
  {
   "cell_type": "code",
   "execution_count": 172,
   "metadata": {},
   "outputs": [],
   "source": [
    "replacedloans=df_tomfile4[df_tomfile4['LoanID'].isin(Replaceloan1)]"
   ]
  },
  {
   "cell_type": "code",
   "execution_count": 173,
   "metadata": {},
   "outputs": [
    {
     "data": {
      "text/plain": [
       "'C:\\\\Users\\\\vergist\\\\Downloads\\\\Int Adjust\\\\201906\\\\TZ\\\\replacedloans.csv'"
      ]
     },
     "execution_count": 173,
     "metadata": {},
     "output_type": "execute_result"
    }
   ],
   "source": [
    "filename=\"\".join(fileloc)\n",
    "filename=filename+\"\".join('\\\\')+\"\".join('replacedloans.csv')\n",
    "filename"
   ]
  },
  {
   "cell_type": "code",
   "execution_count": 174,
   "metadata": {},
   "outputs": [],
   "source": [
    "replacedloans.to_csv(filename,columns=['LoanID','VarianceToInterest_Capped'],header=False,index=False)"
   ]
  },
  {
   "cell_type": "markdown",
   "metadata": {},
   "source": [
    "## Remove Excluded loans"
   ]
  },
  {
   "cell_type": "code",
   "execution_count": 175,
   "metadata": {},
   "outputs": [
    {
     "data": {
      "text/plain": [
       "'C:\\\\Users\\\\vergist\\\\Downloads\\\\Int Adjust\\\\201906\\\\TZ\\\\Consolidated_Daily_Loan_Status_Report.csv'"
      ]
     },
     "execution_count": 175,
     "metadata": {},
     "output_type": "execute_result"
    }
   ],
   "source": [
    "filename=\"\".join(fileloc)\n",
    "filename=filename+\"\".join('\\\\')+\"\".join(Exclusionfile)\n",
    "filename"
   ]
  },
  {
   "cell_type": "code",
   "execution_count": 176,
   "metadata": {},
   "outputs": [],
   "source": [
    "Excludedloan=pd.read_csv(filename,usecols=[\"ClientID\"])"
   ]
  },
  {
   "cell_type": "code",
   "execution_count": 177,
   "metadata": {},
   "outputs": [
    {
     "name": "stdout",
     "output_type": "stream",
     "text": [
      "<class 'pandas.core.frame.DataFrame'>\n",
      "RangeIndex: 3422 entries, 0 to 3421\n",
      "Data columns (total 1 columns):\n",
      "ClientID    3422 non-null object\n",
      "dtypes: object(1)\n",
      "memory usage: 26.8+ KB\n"
     ]
    }
   ],
   "source": [
    "Excludedloan.info()"
   ]
  },
  {
   "cell_type": "code",
   "execution_count": 178,
   "metadata": {},
   "outputs": [],
   "source": [
    "Excludedloan=Excludedloan.ClientID.str.replace(\"\\'\",\"\")"
   ]
  },
  {
   "cell_type": "code",
   "execution_count": 179,
   "metadata": {},
   "outputs": [],
   "source": [
    "Excludedloan1=pd.DataFrame(Excludedloan)"
   ]
  },
  {
   "cell_type": "code",
   "execution_count": 180,
   "metadata": {},
   "outputs": [],
   "source": [
    "df_tomfile6=df_tomfile5[~df_tomfile5['DebtorCode'].isin(Excludedloan1['ClientID'])]"
   ]
  },
  {
   "cell_type": "code",
   "execution_count": 181,
   "metadata": {},
   "outputs": [
    {
     "data": {
      "text/plain": [
       "'C:\\\\Users\\\\vergist\\\\Downloads\\\\Int Adjust\\\\201906\\\\TZ\\\\AfterDroppingExclusions.csv'"
      ]
     },
     "execution_count": 181,
     "metadata": {},
     "output_type": "execute_result"
    }
   ],
   "source": [
    "filename=\"\".join(fileloc)\n",
    "filename=filename+\"\".join('\\\\')+\"\".join('AfterDroppingExclusions.csv')\n",
    "filename"
   ]
  },
  {
   "cell_type": "code",
   "execution_count": 182,
   "metadata": {},
   "outputs": [
    {
     "name": "stdout",
     "output_type": "stream",
     "text": [
      "<class 'pandas.core.frame.DataFrame'>\n",
      "Int64Index: 48847 entries, 0 to 51522\n",
      "Data columns (total 3 columns):\n",
      "LoanID                       48847 non-null int64\n",
      "DebtorCode                   48847 non-null int64\n",
      "VarianceToInterest_Capped    48847 non-null float64\n",
      "dtypes: float64(1), int64(2)\n",
      "memory usage: 1.5 MB\n"
     ]
    }
   ],
   "source": [
    "df_tomfile6.info()\n",
    "df_tomfile6.to_csv(filename,columns=['LoanID','VarianceToInterest_Capped'],header=False,index=False)"
   ]
  },
  {
   "cell_type": "code",
   "execution_count": 183,
   "metadata": {},
   "outputs": [],
   "source": [
    "excluded=df_tomfile5[df_tomfile5['DebtorCode'].isin(Excludedloan1['ClientID'])]"
   ]
  },
  {
   "cell_type": "code",
   "execution_count": 184,
   "metadata": {},
   "outputs": [
    {
     "data": {
      "text/plain": [
       "'C:\\\\Users\\\\vergist\\\\Downloads\\\\Int Adjust\\\\201906\\\\TZ\\\\excluded.csv'"
      ]
     },
     "execution_count": 184,
     "metadata": {},
     "output_type": "execute_result"
    }
   ],
   "source": [
    "filename=\"\".join(fileloc)\n",
    "filename=filename+\"\".join('\\\\')+\"\".join('excluded.csv')\n",
    "filename"
   ]
  },
  {
   "cell_type": "code",
   "execution_count": 185,
   "metadata": {},
   "outputs": [],
   "source": [
    "excluded.to_csv(filename,columns=['LoanID','VarianceToInterest_Capped'],header=False,index=False)"
   ]
  },
  {
   "cell_type": "markdown",
   "metadata": {},
   "source": [
    "# Generate FULL file"
   ]
  },
  {
   "cell_type": "code",
   "execution_count": 186,
   "metadata": {},
   "outputs": [
    {
     "data": {
      "text/plain": [
       "'C:\\\\Users\\\\vergist\\\\Downloads\\\\Int Adjust\\\\201906\\\\TZ\\\\201906_TZ_Adjustment File Full.csv'"
      ]
     },
     "execution_count": 186,
     "metadata": {},
     "output_type": "execute_result"
    }
   ],
   "source": [
    "filename=\"\".join(fileloc)\n",
    "filename=filename+\"\".join('\\\\')+\"\".join(period+\"_\"+sheetname+'_Adjustment File Full.csv')\n",
    "filename\n",
    "#201904_MZ_Adjustment File Full.csv"
   ]
  },
  {
   "cell_type": "code",
   "execution_count": 187,
   "metadata": {},
   "outputs": [],
   "source": [
    "df_tomfile6.to_csv(filename,columns=['LoanID','VarianceToInterest_Capped'],header=False,index=False)\n"
   ]
  },
  {
   "cell_type": "code",
   "execution_count": 188,
   "metadata": {},
   "outputs": [],
   "source": [
    "sumvalue=sum(df_tomfile6['VarianceToInterest_Capped'])"
   ]
  },
  {
   "cell_type": "markdown",
   "metadata": {},
   "source": [
    "## Generate 500 sample file"
   ]
  },
  {
   "cell_type": "code",
   "execution_count": 189,
   "metadata": {},
   "outputs": [
    {
     "data": {
      "text/plain": [
       "'C:\\\\Users\\\\vergist\\\\Downloads\\\\Int Adjust\\\\201906\\\\TZ\\\\201906_TZ_Adjustment File UAT 500 Loan Sample.csv'"
      ]
     },
     "execution_count": 189,
     "metadata": {},
     "output_type": "execute_result"
    }
   ],
   "source": [
    "filename=\"\".join(fileloc)\n",
    "filename=filename+\"\".join('\\\\')+\"\".join(period+\"_\"+sheetname+'_Adjustment File UAT 500 Loan Sample.csv')\n",
    "filename"
   ]
  },
  {
   "cell_type": "code",
   "execution_count": 190,
   "metadata": {},
   "outputs": [],
   "source": [
    "df_tomfile6.head(500).to_csv(filename,columns=['LoanID','VarianceToInterest_Capped'],header=False,index=False)"
   ]
  },
  {
   "cell_type": "code",
   "execution_count": 191,
   "metadata": {},
   "outputs": [
    {
     "name": "stdout",
     "output_type": "stream",
     "text": [
      "<class 'pandas.core.frame.DataFrame'>\n",
      "Int64Index: 48847 entries, 0 to 51522\n",
      "Data columns (total 3 columns):\n",
      "LoanID                       48847 non-null int64\n",
      "DebtorCode                   48847 non-null int64\n",
      "VarianceToInterest_Capped    48847 non-null float64\n",
      "dtypes: float64(1), int64(2)\n",
      "memory usage: 1.5 MB\n"
     ]
    }
   ],
   "source": [
    "df_tomfile6.info()"
   ]
  },
  {
   "cell_type": "code",
   "execution_count": 192,
   "metadata": {},
   "outputs": [],
   "source": [
    "#Summary\n",
    "\n",
    "DictOutput={\"Initial records\":len(df_tomfile1),\"After Dropping zeroes\":len(df_tomfile2),\"After Dropping settled loans\":len(df_tomfile3),\"After Dropping Insurance claim\":len(df_tomfile4),\"After Dropping Replacements\":len(df_tomfile5),\"After Dropping Exclusions\":len(df_tomfile6),\"Total sum value\":sumvalue}\n"
   ]
  },
  {
   "cell_type": "code",
   "execution_count": 193,
   "metadata": {},
   "outputs": [],
   "source": [
    "DictOutputAuditDrops={\"zero value records\":len(df_tomfilezero),\"Settled\":len(df_tomfilesettled),\"Insurance\":len(df_tomfileinsclaim),\"Replaced\":len(replacedloans),\"Exclusions\":len(excluded),\"Total Excluded\":len(df_tomfilezero)+len(df_tomfilesettled)+len(df_tomfileinsclaim)+len(replacedloans)+len(excluded)}\n"
   ]
  },
  {
   "cell_type": "code",
   "execution_count": 194,
   "metadata": {},
   "outputs": [
    {
     "data": {
      "text/plain": [
       "'C:\\\\Users\\\\vergist\\\\Downloads\\\\Int Adjust\\\\201906\\\\TZ\\\\Output.csv'"
      ]
     },
     "execution_count": 194,
     "metadata": {},
     "output_type": "execute_result"
    }
   ],
   "source": [
    "filename=\"\".join(fileloc)\n",
    "filename=filename+\"\".join('\\\\')+\"\".join('Output.csv')\n",
    "filename"
   ]
  },
  {
   "cell_type": "code",
   "execution_count": 195,
   "metadata": {},
   "outputs": [],
   "source": [
    "import csv\n",
    "\n",
    "\n",
    "with open(filename, 'w') as f:\n",
    "    for key in DictOutput.keys():\n",
    "        f.write(\"%s,%s\\n\"%(key,DictOutput[key]))"
   ]
  },
  {
   "cell_type": "code",
   "execution_count": 196,
   "metadata": {},
   "outputs": [
    {
     "data": {
      "text/plain": [
       "'C:\\\\Users\\\\vergist\\\\Downloads\\\\Int Adjust\\\\201906\\\\TZ\\\\OutputDrops.csv'"
      ]
     },
     "execution_count": 196,
     "metadata": {},
     "output_type": "execute_result"
    }
   ],
   "source": [
    "filename=\"\".join(fileloc)\n",
    "filename=filename+\"\".join('\\\\')+\"\".join('OutputDrops.csv')\n",
    "filename"
   ]
  },
  {
   "cell_type": "code",
   "execution_count": 197,
   "metadata": {},
   "outputs": [],
   "source": [
    "with open(filename, 'w') as f:\n",
    "    for key in DictOutputAuditDrops.keys():\n",
    "        f.write(\"%s,%s\\n\"%(key,DictOutputAuditDrops[key]))"
   ]
  },
  {
   "cell_type": "code",
   "execution_count": null,
   "metadata": {},
   "outputs": [],
   "source": []
  },
  {
   "cell_type": "code",
   "execution_count": null,
   "metadata": {},
   "outputs": [],
   "source": []
  },
  {
   "cell_type": "code",
   "execution_count": null,
   "metadata": {},
   "outputs": [],
   "source": []
  }
 ],
 "metadata": {
  "kernelspec": {
   "display_name": "Python 3",
   "language": "python",
   "name": "python3"
  },
  "language_info": {
   "codemirror_mode": {
    "name": "ipython",
    "version": 3
   },
   "file_extension": ".py",
   "mimetype": "text/x-python",
   "name": "python",
   "nbconvert_exporter": "python",
   "pygments_lexer": "ipython3",
   "version": "3.7.1"
  }
 },
 "nbformat": 4,
 "nbformat_minor": 2
}
