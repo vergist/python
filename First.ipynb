{
 "cells": [
  {
   "cell_type": "code",
   "execution_count": 32,
   "metadata": {},
   "outputs": [
    {
     "name": "stdout",
     "output_type": "stream",
     "text": [
      "Vergis Thomas\n"
     ]
    }
   ],
   "source": [
    "print (\"Vergis Thomas\")"
   ]
  },
  {
   "cell_type": "code",
   "execution_count": 4,
   "metadata": {},
   "outputs": [
    {
     "name": "stdout",
     "output_type": "stream",
     "text": [
      "**********\n"
     ]
    }
   ],
   "source": [
    "print ('*' *10)"
   ]
  },
  {
   "cell_type": "code",
   "execution_count": 6,
   "metadata": {},
   "outputs": [],
   "source": [
    "is_published=False\n",
    "    "
   ]
  },
  {
   "cell_type": "code",
   "execution_count": 7,
   "metadata": {},
   "outputs": [],
   "source": [
    "patient_name=\"John Smith\"\n",
    "Age=20\n",
    "Is_new=True"
   ]
  },
  {
   "cell_type": "code",
   "execution_count": 10,
   "metadata": {},
   "outputs": [
    {
     "name": "stdout",
     "output_type": "stream",
     "text": [
      "Whats your name? vergis\n",
      "vergis\n"
     ]
    }
   ],
   "source": [
    "User=input (\"Whats your name? \")\n",
    "print(User)"
   ]
  },
  {
   "cell_type": "code",
   "execution_count": 13,
   "metadata": {},
   "outputs": [
    {
     "name": "stdout",
     "output_type": "stream",
     "text": [
      "Year of birth 1976\n",
      "44\n",
      "<class 'str'>\n",
      "<class 'int'>\n"
     ]
    }
   ],
   "source": [
    "birth_year=input (\"Year of birth \")\n",
    "age=2020-int(birth_year)\n",
    "print (age)\n",
    "print (type(birth_year))\n",
    "print (type(age))"
   ]
  },
  {
   "cell_type": "code",
   "execution_count": 39,
   "metadata": {},
   "outputs": [
    {
     "name": "stdout",
     "output_type": "stream",
     "text": [
      "Weight please 84\n",
      "K for kgs and L for pound  z\n",
      "Enter K or L\n"
     ]
    }
   ],
   "source": [
    "Weight=float(input(\"Weight please \"))\n",
    "\n",
    "Unit=input(\"K for kgs and L for pound  \")\n",
    "\n",
    "if Unit=='K':\n",
    "    print (f\"Weight in pounds is {Weight/0.454}\")\n",
    "elif Unit=='L':\n",
    "    print (f\"Weight in kg is {Weight*0.454}\")\n",
    "else: \n",
    "    print (\"Enter K or L\")\n"
   ]
  },
  {
   "cell_type": "code",
   "execution_count": 4,
   "metadata": {},
   "outputs": [
    {
     "name": "stdout",
     "output_type": "stream",
     "text": [
      "python for \"beginners\"\n"
     ]
    }
   ],
   "source": [
    "print ('python for \"beginners\"')"
   ]
  },
  {
   "cell_type": "code",
   "execution_count": 6,
   "metadata": {},
   "outputs": [
    {
     "name": "stdout",
     "output_type": "stream",
     "text": [
      "\n",
      "python\n",
      "for\n",
      "\"beginners\"\n",
      "\n"
     ]
    }
   ],
   "source": [
    "print ('''\n",
    "python\n",
    "for\n",
    "\"beginners\"\n",
    "'''  )"
   ]
  },
  {
   "cell_type": "code",
   "execution_count": 13,
   "metadata": {},
   "outputs": [
    {
     "name": "stdout",
     "output_type": "stream",
     "text": [
      "p\n",
      "s\n"
     ]
    }
   ],
   "source": [
    "course='python for beginners'\n",
    "print (course[0])\n",
    "print (course[-1])"
   ]
  },
  {
   "cell_type": "code",
   "execution_count": 14,
   "metadata": {},
   "outputs": [
    {
     "name": "stdout",
     "output_type": "stream",
     "text": [
      "pyt\n"
     ]
    }
   ],
   "source": [
    "print(course[0:3])"
   ]
  },
  {
   "cell_type": "code",
   "execution_count": 15,
   "metadata": {},
   "outputs": [
    {
     "name": "stdout",
     "output_type": "stream",
     "text": [
      "pyt\n"
     ]
    }
   ],
   "source": [
    "print(course[:3])"
   ]
  },
  {
   "cell_type": "code",
   "execution_count": 16,
   "metadata": {},
   "outputs": [
    {
     "name": "stdout",
     "output_type": "stream",
     "text": [
      "python for beginners\n"
     ]
    }
   ],
   "source": [
    "print(course[0:])"
   ]
  },
  {
   "cell_type": "code",
   "execution_count": 17,
   "metadata": {},
   "outputs": [
    {
     "name": "stdout",
     "output_type": "stream",
     "text": [
      "python for beginners\n"
     ]
    }
   ],
   "source": [
    "print(course[:])"
   ]
  },
  {
   "cell_type": "code",
   "execution_count": 21,
   "metadata": {},
   "outputs": [
    {
     "name": "stdout",
     "output_type": "stream",
     "text": [
      "ython for beginner\n"
     ]
    }
   ],
   "source": [
    "print (course[1:-1])"
   ]
  },
  {
   "cell_type": "code",
   "execution_count": 20,
   "metadata": {},
   "outputs": [
    {
     "name": "stdout",
     "output_type": "stream",
     "text": [
      "John [Smith ] is a coder\n"
     ]
    }
   ],
   "source": [
    "#formatted strings\n",
    "first='John'\n",
    "last='Smith'\n",
    "msg=f'{first} [{last} ] is a coder'\n",
    "print (msg)"
   ]
  },
  {
   "cell_type": "code",
   "execution_count": 22,
   "metadata": {},
   "outputs": [
    {
     "name": "stdout",
     "output_type": "stream",
     "text": [
      "20\n"
     ]
    }
   ],
   "source": [
    "print (len(course))"
   ]
  },
  {
   "cell_type": "code",
   "execution_count": 24,
   "metadata": {},
   "outputs": [
    {
     "name": "stdout",
     "output_type": "stream",
     "text": [
      "False\n"
     ]
    }
   ],
   "source": [
    "Is_python_in_course= 'jython' in course\n",
    "print (Is_python_in_course)"
   ]
  },
  {
   "cell_type": "code",
   "execution_count": 42,
   "metadata": {},
   "outputs": [
    {
     "name": "stdout",
     "output_type": "stream",
     "text": [
      "downpayment is $200000.0\n"
     ]
    }
   ],
   "source": [
    "Has_good_credit=False\n",
    "Cost= 1000000\n",
    "if Has_good_credit:\n",
    " downpayment=0.1*Cost\n",
    "else:\n",
    " downpayment=0.2*Cost\n",
    "    \n",
    "print (f\"downpayment is ${downpayment}\")"
   ]
  },
  {
   "cell_type": "code",
   "execution_count": null,
   "metadata": {},
   "outputs": [],
   "source": []
  }
 ],
 "metadata": {
  "kernelspec": {
   "display_name": "Python 3",
   "language": "python",
   "name": "python3"
  },
  "language_info": {
   "codemirror_mode": {
    "name": "ipython",
    "version": 3
   },
   "file_extension": ".py",
   "mimetype": "text/x-python",
   "name": "python",
   "nbconvert_exporter": "python",
   "pygments_lexer": "ipython3",
   "version": "3.7.4"
  }
 },
 "nbformat": 4,
 "nbformat_minor": 2
}
