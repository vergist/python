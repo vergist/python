{
 "cells": [
  {
   "cell_type": "code",
   "execution_count": 1,
   "metadata": {},
   "outputs": [
    {
     "name": "stdout",
     "output_type": "stream",
     "text": [
      "lia vergis\n"
     ]
    }
   ],
   "source": [
    "print (\"lia vergis\")"
   ]
  },
  {
   "cell_type": "code",
   "execution_count": 2,
   "metadata": {},
   "outputs": [
    {
     "name": "stdout",
     "output_type": "stream",
     "text": [
      "o----\n",
      "  ||||\n"
     ]
    }
   ],
   "source": [
    "print(\"o----\")\n",
    "print(\"  ||||\")"
   ]
  },
  {
   "cell_type": "code",
   "execution_count": 3,
   "metadata": {},
   "outputs": [
    {
     "name": "stdout",
     "output_type": "stream",
     "text": [
      "**********\n"
     ]
    }
   ],
   "source": [
    "print(\"*\"*10)"
   ]
  },
  {
   "cell_type": "code",
   "execution_count": 4,
   "metadata": {},
   "outputs": [
    {
     "name": "stdout",
     "output_type": "stream",
     "text": [
      "5\n"
     ]
    }
   ],
   "source": [
    "price = 5\n",
    "print(price)"
   ]
  },
  {
   "cell_type": "code",
   "execution_count": 7,
   "metadata": {},
   "outputs": [],
   "source": [
    "name = \"john smith\"\n",
    "age = 20 \n",
    "is_a_new_patient = True"
   ]
  },
  {
   "cell_type": "code",
   "execution_count": 17,
   "metadata": {},
   "outputs": [
    {
     "name": "stdout",
     "output_type": "stream",
     "text": [
      " what is your name? lia\n",
      " what is your favourite colour? purple\n",
      "lia favourite colour is purple.\n"
     ]
    }
   ],
   "source": [
    "name = input(\" what is your name? \")\n",
    "colour = input (\" what is your favourite colour? \")\n",
    "print(name  +  \" favourite colour is \"  + colour + \".\")"
   ]
  },
  {
   "cell_type": "code",
   "execution_count": 22,
   "metadata": {},
   "outputs": [
    {
     "name": "stdout",
     "output_type": "stream",
     "text": [
      " what is your name? lia\n",
      " what is your surname? vergis\n",
      " where do you live? northriding\n",
      "lia vergis lives in northriding.\n"
     ]
    }
   ],
   "source": [
    "name = input (\" what is your name? \")\n",
    "surname = input(\" what is your surname? \")\n",
    "house = input(\" where do you live? \")\n",
    "print(name + \" \"+  surname + \" lives in \" + house + \".\")"
   ]
  },
  {
   "cell_type": "code",
   "execution_count": 24,
   "metadata": {},
   "outputs": [
    {
     "name": "stdout",
     "output_type": "stream",
     "text": [
      " what is your name? lia\n",
      " what is your surname? vergis\n",
      " where do you come from? india\n",
      "lia vergis is from india.\n",
      "lia vergis is from india\n"
     ]
    }
   ],
   "source": [
    "name = input(\" what is your name? \")\n",
    "surname = input(\" what is your surname? \")\n",
    "origin = input (\" where do you come from? \")\n",
    "print (name + \" \" + surname +\" is from \" + origin + \".\")\n",
    "msg = f'{name} {surname} is from {origin}'\n",
    "print(msg)"
   ]
  },
  {
   "cell_type": "code",
   "execution_count": 8,
   "metadata": {},
   "outputs": [
    {
     "name": "stdout",
     "output_type": "stream",
     "text": [
      "birth year: 1885\n",
      "135\n"
     ]
    }
   ],
   "source": [
    "birth_year = input (\"birth year: \")\n",
    "age = 2020 - int(birth_year)\n",
    "print (age)"
   ]
  },
  {
   "cell_type": "code",
   "execution_count": 10,
   "metadata": {},
   "outputs": [
    {
     "name": "stdout",
     "output_type": "stream",
     "text": [
      " year of marriage: 2005\n",
      "15\n"
     ]
    }
   ],
   "source": [
    "marriage_year = input (\" year of marriage: \")\n",
    "age = 2020 - int(marriage_year)\n",
    "print(age)"
   ]
  },
  {
   "cell_type": "code",
   "execution_count": 13,
   "metadata": {},
   "outputs": [
    {
     "data": {
      "text/plain": [
       "str"
      ]
     },
     "execution_count": 13,
     "metadata": {},
     "output_type": "execute_result"
    }
   ],
   "source": [
    "type(birth_year)"
   ]
  },
  {
   "cell_type": "code",
   "execution_count": 19,
   "metadata": {},
   "outputs": [
    {
     "name": "stdout",
     "output_type": "stream",
     "text": [
      "how much do you weigh? 53\n",
      "117.77777777777777\n"
     ]
    }
   ],
   "source": [
    "weight_in_kg = input(\"how much do you weigh? \")\n",
    "pounds = int(weight_in_kg)/0.45\n",
    "print(pounds)                    "
   ]
  },
  {
   "cell_type": "code",
   "execution_count": 23,
   "metadata": {},
   "outputs": [
    {
     "name": "stdout",
     "output_type": "stream",
     "text": [
      "how much do you weigh? 184.4\n",
      "82.98\n"
     ]
    }
   ],
   "source": [
    "weight_in_pounds = input(\"how much do you weigh? \")\n",
    "kg = float(weight_in_pounds)*0.45\n",
    "print(kg)"
   ]
  },
  {
   "cell_type": "code",
   "execution_count": 5,
   "metadata": {},
   "outputs": [
    {
     "name": "stdout",
     "output_type": "stream",
     "text": [
      " enter the amount of grams 5\n",
      "0.005\n"
     ]
    }
   ],
   "source": [
    "grams=input(\" enter the amount of grams \")\n",
    "kg=float(grams)/1000\n",
    "print(kg)"
   ]
  },
  {
   "cell_type": "code",
   "execution_count": 4,
   "metadata": {},
   "outputs": [
    {
     "name": "stdout",
     "output_type": "stream",
     "text": [
      "LIA VERGIS\n",
      "lia vergis\n",
      "Lia vergis\n"
     ]
    }
   ],
   "source": [
    "name=\"Lia vergis\"\n",
    "print(name.upper())\n",
    "print(name.lower())\n",
    "print(name)"
   ]
  },
  {
   "cell_type": "code",
   "execution_count": 5,
   "metadata": {},
   "outputs": [
    {
     "name": "stdout",
     "output_type": "stream",
     "text": [
      "Jason vergis\n"
     ]
    }
   ],
   "source": [
    "name=\"Lia vergis\"\n",
    "print(name.replace(\"Lia\",\"Jason\"))"
   ]
  },
  {
   "cell_type": "code",
   "execution_count": 10,
   "metadata": {},
   "outputs": [
    {
     "name": "stdout",
     "output_type": "stream",
     "text": [
      "True\n"
     ]
    }
   ],
   "source": [
    "name=\"lia vergis\"\n",
    "print(\"lia\" in name)"
   ]
  },
  {
   "cell_type": "code",
   "execution_count": 13,
   "metadata": {},
   "outputs": [
    {
     "name": "stdout",
     "output_type": "stream",
     "text": [
      "down-payment is 200000\n"
     ]
    }
   ],
   "source": [
    "good_credit= False\n",
    "cost=1000000\n",
    "if good_credit:\n",
    "    down=cost*0.1\n",
    "else:\n",
    "    down=cost*0.2\n",
    "print(f\"down-payment is {int(down)}\")"
   ]
  },
  {
   "cell_type": "code",
   "execution_count": 17,
   "metadata": {},
   "outputs": [
    {
     "name": "stdout",
     "output_type": "stream",
     "text": [
      "Come tomorrow\n"
     ]
    }
   ],
   "source": [
    "coming_home= False\n",
    "if coming_home:\n",
    "    print(\"Welcome to my House\")\n",
    "else:\n",
    "    print(\"Come tomorrow\") \n",
    "    \n",
    "        "
   ]
  },
  {
   "cell_type": "code",
   "execution_count": 1,
   "metadata": {},
   "outputs": [
    {
     "name": "stdout",
     "output_type": "stream",
     "text": [
      "i want mash potato\n"
     ]
    }
   ],
   "source": [
    "day_of_week=\"monday\"\n",
    "if day_of_week==\"monday\":\n",
    "    print(\"i want mash potato\")\n",
    "elif day_of_week==\"tuesday\":\n",
    "    print(\"i want beef roast\")\n",
    "elif day_of_week==\"wednesday\":\n",
    "    print(\"i want chicken\")\n",
    "else:\n",
    "    print(\"i will have anything\")\n",
    "    \n",
    " #the above example is for comparing strings   \n"
   ]
  },
  {
   "cell_type": "code",
   "execution_count": null,
   "metadata": {},
   "outputs": [],
   "source": [
    "#https://www.youtube.com/watch?v=_uQrJ0TkZlc&t=12329s\n",
    "#1:06 Logical Operators AND and OR-If with two conditions"
   ]
  },
  {
   "cell_type": "code",
   "execution_count": 4,
   "metadata": {},
   "outputs": [
    {
     "name": "stdout",
     "output_type": "stream",
     "text": [
      "it's neither hot nor cold \n"
     ]
    }
   ],
   "source": [
    "temperature = 20\n",
    "if temperature >30:\n",
    "    print(\"it's a hot day \")\n",
    "elif temperature <10:\n",
    "    print(\" it's a cold day \")\n",
    "else:\n",
    "    print(\"it's neither hot nor cold \")"
   ]
  },
  {
   "cell_type": "code",
   "execution_count": 9,
   "metadata": {},
   "outputs": [
    {
     "name": "stdout",
     "output_type": "stream",
     "text": [
      " what is your name? lia\n",
      "lia\n"
     ]
    },
    {
     "data": {
      "text/plain": [
       "str"
      ]
     },
     "execution_count": 9,
     "metadata": {},
     "output_type": "execute_result"
    }
   ],
   "source": [
    "name = input(\" what is your name? \")\n",
    "print(name)\n",
    "type(name)"
   ]
  },
  {
   "cell_type": "code",
   "execution_count": null,
   "metadata": {},
   "outputs": [],
   "source": []
  }
 ],
 "metadata": {
  "kernelspec": {
   "display_name": "Python 3",
   "language": "python",
   "name": "python3"
  },
  "language_info": {
   "codemirror_mode": {
    "name": "ipython",
    "version": 3
   },
   "file_extension": ".py",
   "mimetype": "text/x-python",
   "name": "python",
   "nbconvert_exporter": "python",
   "pygments_lexer": "ipython3",
   "version": "3.7.4"
  }
 },
 "nbformat": 4,
 "nbformat_minor": 2
}
